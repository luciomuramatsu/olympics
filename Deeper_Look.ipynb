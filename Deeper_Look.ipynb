{
 "cells": [
  {
   "cell_type": "code",
   "execution_count": 1,
   "metadata": {},
   "outputs": [],
   "source": [
    "import pandas as pd\n",
    "import numpy as np\n",
    "import matplotlib.pyplot as plt \n",
    "import seaborn as sns\n",
    "import scipy.stats as stats\n",
    "\n",
    "pd.set_option('display.float_format', lambda x: '%.2f' %x)\n",
    "\n",
    "olympics = pd.read_csv('/Users/luciomuramatsu/Google Drive/Code/python/DataScience/dataOlympics/olympics_events.csv')"
   ]
  },
  {
   "cell_type": "code",
   "execution_count": 2,
   "metadata": {},
   "outputs": [
    {
     "name": "stdout",
     "output_type": "stream",
     "text": [
      "<class 'pandas.core.frame.DataFrame'>\n",
      "RangeIndex: 271116 entries, 0 to 271115\n",
      "Data columns (total 15 columns):\n",
      " #   Column  Non-Null Count   Dtype  \n",
      "---  ------  --------------   -----  \n",
      " 0   ID      271116 non-null  int64  \n",
      " 1   Name    271116 non-null  object \n",
      " 2   Sex     271116 non-null  object \n",
      " 3   Age     261642 non-null  float64\n",
      " 4   Height  210945 non-null  float64\n",
      " 5   Weight  208241 non-null  float64\n",
      " 6   Team    271116 non-null  object \n",
      " 7   NOC     271116 non-null  object \n",
      " 8   Games   271116 non-null  object \n",
      " 9   Year    271116 non-null  int64  \n",
      " 10  Season  271116 non-null  object \n",
      " 11  City    271116 non-null  object \n",
      " 12  Sport   271116 non-null  object \n",
      " 13  Event   271116 non-null  object \n",
      " 14  Medal   39783 non-null   object \n",
      "dtypes: float64(3), int64(2), object(10)\n",
      "memory usage: 31.0+ MB\n"
     ]
    }
   ],
   "source": [
    "olympics.info()"
   ]
  },
  {
   "cell_type": "code",
   "execution_count": 3,
   "metadata": {},
   "outputs": [
    {
     "data": {
      "text/html": [
       "<div>\n",
       "<style scoped>\n",
       "    .dataframe tbody tr th:only-of-type {\n",
       "        vertical-align: middle;\n",
       "    }\n",
       "\n",
       "    .dataframe tbody tr th {\n",
       "        vertical-align: top;\n",
       "    }\n",
       "\n",
       "    .dataframe thead th {\n",
       "        text-align: right;\n",
       "    }\n",
       "</style>\n",
       "<table border=\"1\" class=\"dataframe\">\n",
       "  <thead>\n",
       "    <tr style=\"text-align: right;\">\n",
       "      <th></th>\n",
       "      <th>ID</th>\n",
       "      <th>Name</th>\n",
       "      <th>Sex</th>\n",
       "      <th>Age</th>\n",
       "      <th>Height</th>\n",
       "      <th>Weight</th>\n",
       "      <th>Team</th>\n",
       "      <th>NOC</th>\n",
       "      <th>Games</th>\n",
       "      <th>Year</th>\n",
       "      <th>Season</th>\n",
       "      <th>City</th>\n",
       "      <th>Sport</th>\n",
       "      <th>Event</th>\n",
       "      <th>Medal</th>\n",
       "    </tr>\n",
       "  </thead>\n",
       "  <tbody>\n",
       "    <tr>\n",
       "      <th>0</th>\n",
       "      <td>1</td>\n",
       "      <td>A Dijiang</td>\n",
       "      <td>M</td>\n",
       "      <td>24.00</td>\n",
       "      <td>180.00</td>\n",
       "      <td>80.00</td>\n",
       "      <td>China</td>\n",
       "      <td>CHN</td>\n",
       "      <td>1992 Summer</td>\n",
       "      <td>1992</td>\n",
       "      <td>Summer</td>\n",
       "      <td>Barcelona</td>\n",
       "      <td>Basketball</td>\n",
       "      <td>Basketball Men's Basketball</td>\n",
       "      <td>NaN</td>\n",
       "    </tr>\n",
       "    <tr>\n",
       "      <th>1</th>\n",
       "      <td>2</td>\n",
       "      <td>A Lamusi</td>\n",
       "      <td>M</td>\n",
       "      <td>23.00</td>\n",
       "      <td>170.00</td>\n",
       "      <td>60.00</td>\n",
       "      <td>China</td>\n",
       "      <td>CHN</td>\n",
       "      <td>2012 Summer</td>\n",
       "      <td>2012</td>\n",
       "      <td>Summer</td>\n",
       "      <td>London</td>\n",
       "      <td>Judo</td>\n",
       "      <td>Judo Men's Extra-Lightweight</td>\n",
       "      <td>NaN</td>\n",
       "    </tr>\n",
       "    <tr>\n",
       "      <th>2</th>\n",
       "      <td>3</td>\n",
       "      <td>Gunnar Nielsen Aaby</td>\n",
       "      <td>M</td>\n",
       "      <td>24.00</td>\n",
       "      <td>nan</td>\n",
       "      <td>nan</td>\n",
       "      <td>Denmark</td>\n",
       "      <td>DEN</td>\n",
       "      <td>1920 Summer</td>\n",
       "      <td>1920</td>\n",
       "      <td>Summer</td>\n",
       "      <td>Antwerpen</td>\n",
       "      <td>Football</td>\n",
       "      <td>Football Men's Football</td>\n",
       "      <td>NaN</td>\n",
       "    </tr>\n",
       "    <tr>\n",
       "      <th>3</th>\n",
       "      <td>4</td>\n",
       "      <td>Edgar Lindenau Aabye</td>\n",
       "      <td>M</td>\n",
       "      <td>34.00</td>\n",
       "      <td>nan</td>\n",
       "      <td>nan</td>\n",
       "      <td>Denmark/Sweden</td>\n",
       "      <td>DEN</td>\n",
       "      <td>1900 Summer</td>\n",
       "      <td>1900</td>\n",
       "      <td>Summer</td>\n",
       "      <td>Paris</td>\n",
       "      <td>Tug-Of-War</td>\n",
       "      <td>Tug-Of-War Men's Tug-Of-War</td>\n",
       "      <td>Gold</td>\n",
       "    </tr>\n",
       "    <tr>\n",
       "      <th>4</th>\n",
       "      <td>5</td>\n",
       "      <td>Christine Jacoba Aaftink</td>\n",
       "      <td>F</td>\n",
       "      <td>21.00</td>\n",
       "      <td>185.00</td>\n",
       "      <td>82.00</td>\n",
       "      <td>Netherlands</td>\n",
       "      <td>NED</td>\n",
       "      <td>1988 Winter</td>\n",
       "      <td>1988</td>\n",
       "      <td>Winter</td>\n",
       "      <td>Calgary</td>\n",
       "      <td>Speed Skating</td>\n",
       "      <td>Speed Skating Women's 500 metres</td>\n",
       "      <td>NaN</td>\n",
       "    </tr>\n",
       "  </tbody>\n",
       "</table>\n",
       "</div>"
      ],
      "text/plain": [
       "   ID                      Name Sex   Age  Height  Weight            Team  \\\n",
       "0   1                 A Dijiang   M 24.00  180.00   80.00           China   \n",
       "1   2                  A Lamusi   M 23.00  170.00   60.00           China   \n",
       "2   3       Gunnar Nielsen Aaby   M 24.00     nan     nan         Denmark   \n",
       "3   4      Edgar Lindenau Aabye   M 34.00     nan     nan  Denmark/Sweden   \n",
       "4   5  Christine Jacoba Aaftink   F 21.00  185.00   82.00     Netherlands   \n",
       "\n",
       "   NOC        Games  Year  Season       City          Sport  \\\n",
       "0  CHN  1992 Summer  1992  Summer  Barcelona     Basketball   \n",
       "1  CHN  2012 Summer  2012  Summer     London           Judo   \n",
       "2  DEN  1920 Summer  1920  Summer  Antwerpen       Football   \n",
       "3  DEN  1900 Summer  1900  Summer      Paris     Tug-Of-War   \n",
       "4  NED  1988 Winter  1988  Winter    Calgary  Speed Skating   \n",
       "\n",
       "                              Event Medal  \n",
       "0       Basketball Men's Basketball   NaN  \n",
       "1      Judo Men's Extra-Lightweight   NaN  \n",
       "2           Football Men's Football   NaN  \n",
       "3       Tug-Of-War Men's Tug-Of-War  Gold  \n",
       "4  Speed Skating Women's 500 metres   NaN  "
      ]
     },
     "execution_count": 3,
     "metadata": {},
     "output_type": "execute_result"
    }
   ],
   "source": [
    "olympics.head(5)"
   ]
  },
  {
   "cell_type": "code",
   "execution_count": 180,
   "metadata": {},
   "outputs": [
    {
     "name": "stdout",
     "output_type": "stream",
     "text": [
      "<class 'pandas.core.frame.DataFrame'>\n",
      "RangeIndex: 271116 entries, 0 to 271115\n",
      "Data columns (total 15 columns):\n",
      " #   Column  Non-Null Count   Dtype  \n",
      "---  ------  --------------   -----  \n",
      " 0   ID      271116 non-null  int64  \n",
      " 1   Name    271116 non-null  object \n",
      " 2   Sex     271116 non-null  object \n",
      " 3   Age     261642 non-null  float64\n",
      " 4   Height  210945 non-null  float64\n",
      " 5   Weight  208241 non-null  float64\n",
      " 6   Team    271116 non-null  object \n",
      " 7   NOC     271116 non-null  object \n",
      " 8   Games   271116 non-null  object \n",
      " 9   Year    271116 non-null  int64  \n",
      " 10  Season  271116 non-null  object \n",
      " 11  City    271116 non-null  object \n",
      " 12  Sport   271116 non-null  object \n",
      " 13  Event   271116 non-null  object \n",
      " 14  Medal   39783 non-null   object \n",
      "dtypes: float64(3), int64(2), object(10)\n",
      "memory usage: 31.0+ MB\n"
     ]
    }
   ],
   "source": [
    "olympics.info()"
   ]
  },
  {
   "cell_type": "code",
   "execution_count": 4,
   "metadata": {},
   "outputs": [
    {
     "data": {
      "text/html": [
       "<div>\n",
       "<style scoped>\n",
       "    .dataframe tbody tr th:only-of-type {\n",
       "        vertical-align: middle;\n",
       "    }\n",
       "\n",
       "    .dataframe tbody tr th {\n",
       "        vertical-align: top;\n",
       "    }\n",
       "\n",
       "    .dataframe thead th {\n",
       "        text-align: right;\n",
       "    }\n",
       "</style>\n",
       "<table border=\"1\" class=\"dataframe\">\n",
       "  <thead>\n",
       "    <tr style=\"text-align: right;\">\n",
       "      <th></th>\n",
       "      <th>ID</th>\n",
       "      <th>Age</th>\n",
       "      <th>Height</th>\n",
       "      <th>Weight</th>\n",
       "      <th>Year</th>\n",
       "    </tr>\n",
       "  </thead>\n",
       "  <tbody>\n",
       "    <tr>\n",
       "      <th>count</th>\n",
       "      <td>271116.00</td>\n",
       "      <td>261642.00</td>\n",
       "      <td>210945.00</td>\n",
       "      <td>208241.00</td>\n",
       "      <td>271116.00</td>\n",
       "    </tr>\n",
       "    <tr>\n",
       "      <th>mean</th>\n",
       "      <td>68248.95</td>\n",
       "      <td>25.56</td>\n",
       "      <td>175.34</td>\n",
       "      <td>70.70</td>\n",
       "      <td>1978.38</td>\n",
       "    </tr>\n",
       "    <tr>\n",
       "      <th>std</th>\n",
       "      <td>39022.29</td>\n",
       "      <td>6.39</td>\n",
       "      <td>10.52</td>\n",
       "      <td>14.35</td>\n",
       "      <td>29.88</td>\n",
       "    </tr>\n",
       "    <tr>\n",
       "      <th>min</th>\n",
       "      <td>1.00</td>\n",
       "      <td>10.00</td>\n",
       "      <td>127.00</td>\n",
       "      <td>25.00</td>\n",
       "      <td>1896.00</td>\n",
       "    </tr>\n",
       "    <tr>\n",
       "      <th>25%</th>\n",
       "      <td>34643.00</td>\n",
       "      <td>21.00</td>\n",
       "      <td>168.00</td>\n",
       "      <td>60.00</td>\n",
       "      <td>1960.00</td>\n",
       "    </tr>\n",
       "    <tr>\n",
       "      <th>50%</th>\n",
       "      <td>68205.00</td>\n",
       "      <td>24.00</td>\n",
       "      <td>175.00</td>\n",
       "      <td>70.00</td>\n",
       "      <td>1988.00</td>\n",
       "    </tr>\n",
       "    <tr>\n",
       "      <th>75%</th>\n",
       "      <td>102097.25</td>\n",
       "      <td>28.00</td>\n",
       "      <td>183.00</td>\n",
       "      <td>79.00</td>\n",
       "      <td>2002.00</td>\n",
       "    </tr>\n",
       "    <tr>\n",
       "      <th>max</th>\n",
       "      <td>135571.00</td>\n",
       "      <td>97.00</td>\n",
       "      <td>226.00</td>\n",
       "      <td>214.00</td>\n",
       "      <td>2016.00</td>\n",
       "    </tr>\n",
       "  </tbody>\n",
       "</table>\n",
       "</div>"
      ],
      "text/plain": [
       "             ID       Age    Height    Weight      Year\n",
       "count 271116.00 261642.00 210945.00 208241.00 271116.00\n",
       "mean   68248.95     25.56    175.34     70.70   1978.38\n",
       "std    39022.29      6.39     10.52     14.35     29.88\n",
       "min        1.00     10.00    127.00     25.00   1896.00\n",
       "25%    34643.00     21.00    168.00     60.00   1960.00\n",
       "50%    68205.00     24.00    175.00     70.00   1988.00\n",
       "75%   102097.25     28.00    183.00     79.00   2002.00\n",
       "max   135571.00     97.00    226.00    214.00   2016.00"
      ]
     },
     "execution_count": 4,
     "metadata": {},
     "output_type": "execute_result"
    }
   ],
   "source": [
    "olympics.describe()"
   ]
  },
  {
   "cell_type": "code",
   "execution_count": 5,
   "metadata": {},
   "outputs": [],
   "source": [
    "from pandasql import sqldf\n",
    "pysqldf = lambda q: sqldf(q, globals())"
   ]
  },
  {
   "cell_type": "markdown",
   "metadata": {},
   "source": [
    "## Number of entries for summer events only."
   ]
  },
  {
   "cell_type": "code",
   "execution_count": 9,
   "metadata": {},
   "outputs": [
    {
     "data": {
      "text/html": [
       "<div>\n",
       "<style scoped>\n",
       "    .dataframe tbody tr th:only-of-type {\n",
       "        vertical-align: middle;\n",
       "    }\n",
       "\n",
       "    .dataframe tbody tr th {\n",
       "        vertical-align: top;\n",
       "    }\n",
       "\n",
       "    .dataframe thead th {\n",
       "        text-align: right;\n",
       "    }\n",
       "</style>\n",
       "<table border=\"1\" class=\"dataframe\">\n",
       "  <thead>\n",
       "    <tr style=\"text-align: right;\">\n",
       "      <th></th>\n",
       "      <th>Sport</th>\n",
       "      <th>Count</th>\n",
       "    </tr>\n",
       "  </thead>\n",
       "  <tbody>\n",
       "    <tr>\n",
       "      <th>0</th>\n",
       "      <td>Athletics</td>\n",
       "      <td>32374</td>\n",
       "    </tr>\n",
       "    <tr>\n",
       "      <th>1</th>\n",
       "      <td>Swimming</td>\n",
       "      <td>18776</td>\n",
       "    </tr>\n",
       "    <tr>\n",
       "      <th>2</th>\n",
       "      <td>Gymnastics</td>\n",
       "      <td>18271</td>\n",
       "    </tr>\n",
       "    <tr>\n",
       "      <th>3</th>\n",
       "      <td>Rowing</td>\n",
       "      <td>7790</td>\n",
       "    </tr>\n",
       "    <tr>\n",
       "      <th>4</th>\n",
       "      <td>Cycling</td>\n",
       "      <td>7775</td>\n",
       "    </tr>\n",
       "    <tr>\n",
       "      <th>5</th>\n",
       "      <td>Shooting</td>\n",
       "      <td>7260</td>\n",
       "    </tr>\n",
       "    <tr>\n",
       "      <th>6</th>\n",
       "      <td>Fencing</td>\n",
       "      <td>6537</td>\n",
       "    </tr>\n",
       "    <tr>\n",
       "      <th>7</th>\n",
       "      <td>Canoeing</td>\n",
       "      <td>5550</td>\n",
       "    </tr>\n",
       "    <tr>\n",
       "      <th>8</th>\n",
       "      <td>Wrestling</td>\n",
       "      <td>5186</td>\n",
       "    </tr>\n",
       "    <tr>\n",
       "      <th>9</th>\n",
       "      <td>Sailing</td>\n",
       "      <td>4863</td>\n",
       "    </tr>\n",
       "    <tr>\n",
       "      <th>10</th>\n",
       "      <td>Equestrianism</td>\n",
       "      <td>4553</td>\n",
       "    </tr>\n",
       "    <tr>\n",
       "      <th>11</th>\n",
       "      <td>Football</td>\n",
       "      <td>4443</td>\n",
       "    </tr>\n",
       "    <tr>\n",
       "      <th>12</th>\n",
       "      <td>Boxing</td>\n",
       "      <td>4363</td>\n",
       "    </tr>\n",
       "    <tr>\n",
       "      <th>13</th>\n",
       "      <td>Hockey</td>\n",
       "      <td>4264</td>\n",
       "    </tr>\n",
       "    <tr>\n",
       "      <th>14</th>\n",
       "      <td>Basketball</td>\n",
       "      <td>3668</td>\n",
       "    </tr>\n",
       "    <tr>\n",
       "      <th>15</th>\n",
       "      <td>Judo</td>\n",
       "      <td>3366</td>\n",
       "    </tr>\n",
       "    <tr>\n",
       "      <th>16</th>\n",
       "      <td>Handball</td>\n",
       "      <td>3319</td>\n",
       "    </tr>\n",
       "    <tr>\n",
       "      <th>17</th>\n",
       "      <td>Volleyball</td>\n",
       "      <td>3277</td>\n",
       "    </tr>\n",
       "    <tr>\n",
       "      <th>18</th>\n",
       "      <td>Weightlifting</td>\n",
       "      <td>2974</td>\n",
       "    </tr>\n",
       "    <tr>\n",
       "      <th>19</th>\n",
       "      <td>Water Polo</td>\n",
       "      <td>2719</td>\n",
       "    </tr>\n",
       "    <tr>\n",
       "      <th>20</th>\n",
       "      <td>Diving</td>\n",
       "      <td>2011</td>\n",
       "    </tr>\n",
       "    <tr>\n",
       "      <th>21</th>\n",
       "      <td>Tennis</td>\n",
       "      <td>2008</td>\n",
       "    </tr>\n",
       "    <tr>\n",
       "      <th>22</th>\n",
       "      <td>Archery</td>\n",
       "      <td>1883</td>\n",
       "    </tr>\n",
       "    <tr>\n",
       "      <th>23</th>\n",
       "      <td>Table Tennis</td>\n",
       "      <td>1789</td>\n",
       "    </tr>\n",
       "    <tr>\n",
       "      <th>24</th>\n",
       "      <td>Badminton</td>\n",
       "      <td>1362</td>\n",
       "    </tr>\n",
       "    <tr>\n",
       "      <th>25</th>\n",
       "      <td>Modern Pentathlon</td>\n",
       "      <td>1259</td>\n",
       "    </tr>\n",
       "    <tr>\n",
       "      <th>26</th>\n",
       "      <td>Synchronized Swimming</td>\n",
       "      <td>849</td>\n",
       "    </tr>\n",
       "    <tr>\n",
       "      <th>27</th>\n",
       "      <td>Baseball</td>\n",
       "      <td>846</td>\n",
       "    </tr>\n",
       "    <tr>\n",
       "      <th>28</th>\n",
       "      <td>Rhythmic Gymnastics</td>\n",
       "      <td>615</td>\n",
       "    </tr>\n",
       "    <tr>\n",
       "      <th>29</th>\n",
       "      <td>Taekwondo</td>\n",
       "      <td>596</td>\n",
       "    </tr>\n",
       "    <tr>\n",
       "      <th>30</th>\n",
       "      <td>Beach Volleyball</td>\n",
       "      <td>538</td>\n",
       "    </tr>\n",
       "    <tr>\n",
       "      <th>31</th>\n",
       "      <td>Triathlon</td>\n",
       "      <td>526</td>\n",
       "    </tr>\n",
       "    <tr>\n",
       "      <th>32</th>\n",
       "      <td>Softball</td>\n",
       "      <td>441</td>\n",
       "    </tr>\n",
       "    <tr>\n",
       "      <th>33</th>\n",
       "      <td>Rugby Sevens</td>\n",
       "      <td>297</td>\n",
       "    </tr>\n",
       "    <tr>\n",
       "      <th>34</th>\n",
       "      <td>Trampolining</td>\n",
       "      <td>149</td>\n",
       "    </tr>\n",
       "    <tr>\n",
       "      <th>35</th>\n",
       "      <td>Golf</td>\n",
       "      <td>108</td>\n",
       "    </tr>\n",
       "    <tr>\n",
       "      <th>36</th>\n",
       "      <td>Rugby</td>\n",
       "      <td>30</td>\n",
       "    </tr>\n",
       "    <tr>\n",
       "      <th>37</th>\n",
       "      <td>Art Competitions</td>\n",
       "      <td>28</td>\n",
       "    </tr>\n",
       "    <tr>\n",
       "      <th>38</th>\n",
       "      <td>Tug-Of-War</td>\n",
       "      <td>20</td>\n",
       "    </tr>\n",
       "    <tr>\n",
       "      <th>39</th>\n",
       "      <td>Ice Hockey</td>\n",
       "      <td>18</td>\n",
       "    </tr>\n",
       "    <tr>\n",
       "      <th>40</th>\n",
       "      <td>Lacrosse</td>\n",
       "      <td>2</td>\n",
       "    </tr>\n",
       "    <tr>\n",
       "      <th>41</th>\n",
       "      <td>Figure Skating</td>\n",
       "      <td>2</td>\n",
       "    </tr>\n",
       "    <tr>\n",
       "      <th>42</th>\n",
       "      <td>Motorboating</td>\n",
       "      <td>1</td>\n",
       "    </tr>\n",
       "  </tbody>\n",
       "</table>\n",
       "</div>"
      ],
      "text/plain": [
       "                    Sport  Count\n",
       "0               Athletics  32374\n",
       "1                Swimming  18776\n",
       "2              Gymnastics  18271\n",
       "3                  Rowing   7790\n",
       "4                 Cycling   7775\n",
       "5                Shooting   7260\n",
       "6                 Fencing   6537\n",
       "7                Canoeing   5550\n",
       "8               Wrestling   5186\n",
       "9                 Sailing   4863\n",
       "10          Equestrianism   4553\n",
       "11               Football   4443\n",
       "12                 Boxing   4363\n",
       "13                 Hockey   4264\n",
       "14             Basketball   3668\n",
       "15                   Judo   3366\n",
       "16               Handball   3319\n",
       "17             Volleyball   3277\n",
       "18          Weightlifting   2974\n",
       "19             Water Polo   2719\n",
       "20                 Diving   2011\n",
       "21                 Tennis   2008\n",
       "22                Archery   1883\n",
       "23           Table Tennis   1789\n",
       "24              Badminton   1362\n",
       "25      Modern Pentathlon   1259\n",
       "26  Synchronized Swimming    849\n",
       "27               Baseball    846\n",
       "28    Rhythmic Gymnastics    615\n",
       "29              Taekwondo    596\n",
       "30       Beach Volleyball    538\n",
       "31              Triathlon    526\n",
       "32               Softball    441\n",
       "33           Rugby Sevens    297\n",
       "34           Trampolining    149\n",
       "35                   Golf    108\n",
       "36                  Rugby     30\n",
       "37       Art Competitions     28\n",
       "38             Tug-Of-War     20\n",
       "39             Ice Hockey     18\n",
       "40               Lacrosse      2\n",
       "41         Figure Skating      2\n",
       "42           Motorboating      1"
      ]
     },
     "execution_count": 9,
     "metadata": {},
     "output_type": "execute_result"
    }
   ],
   "source": [
    "sports_count = pysqldf('''\n",
    "SELECT \n",
    "    Sport,\n",
    "    COUNT(Sport) Count\n",
    "FROM olympics \n",
    "WHERE \n",
    "    Height IS NOT NULL\n",
    "    AND\n",
    "    Weight IS NOT NULL\n",
    "    AND \n",
    "    Age IS NOT NULL\n",
    "    AND \n",
    "    Season = 'Summer'\n",
    "GROUP BY Sport\n",
    "ORDER BY Count DESC\n",
    ";\n",
    "''')\n",
    "\n",
    "sports_count"
   ]
  },
  {
   "cell_type": "markdown",
   "metadata": {},
   "source": [
    "## Analyse by 3 groups. Team sports, weight division sports and event-based sports."
   ]
  },
  {
   "cell_type": "code",
   "execution_count": 181,
   "metadata": {},
   "outputs": [
    {
     "data": {
      "text/plain": [
       "<matplotlib.axes._subplots.AxesSubplot at 0x7fb0fcbda5b0>"
      ]
     },
     "execution_count": 181,
     "metadata": {},
     "output_type": "execute_result"
    },
    {
     "data": {
      "image/png": "[encoded data removed]",
      "text/plain": [
       "<Figure size 432x288 with 1 Axes>"
      ]
     },
     "metadata": {},
     "output_type": "display_data"
    }
   ],
   "source": [
    "olympics.Year.hist()"
   ]
  },
  {
   "cell_type": "code",
   "execution_count": 14,
   "metadata": {},
   "outputs": [],
   "source": [
    "team_sports = ['Football', 'Hockey', 'Basketball', 'Handball', 'Volleyball', 'Water Polo',\n",
    "               'Synchronized Swimming', 'Baseball']\n",
    "weight_division_sports = ['Wrestling', 'Boxing', 'Judo', 'Taekwondo', 'Weightlifting']\n",
    "individual_sports = ['Athletics', 'Swimming', 'Gymnastics', 'Rowing', 'Cycling', 'Shooting', 'Fencing', \n",
    "                     'Canoeing', 'Sailing', 'Equestrianism', 'Diving', 'Archery', 'Tennis', 'Triathlon']"
   ]
  },
  {
   "cell_type": "markdown",
   "metadata": {},
   "source": [
    "## Create table with all entries for each group.\n",
    "### Excluding entry when age, weight or height is null\n",
    "### Selecting only entries from 1960 or older (small data before 1960)\n",
    "### Calculating BMI (Weight/ Height ˆ 2)\n",
    "### Two aditional columns for medals. Boolean (Any medal = True, No medal = False) and numeric points (Gold = 3, Silver = 2, Bronze = 1)"
   ]
  },
  {
   "cell_type": "code",
   "execution_count": 174,
   "metadata": {
    "scrolled": true
   },
   "outputs": [
    {
     "data": {
      "text/html": [
       "<div>\n",
       "<style scoped>\n",
       "    .dataframe tbody tr th:only-of-type {\n",
       "        vertical-align: middle;\n",
       "    }\n",
       "\n",
       "    .dataframe tbody tr th {\n",
       "        vertical-align: top;\n",
       "    }\n",
       "\n",
       "    .dataframe thead th {\n",
       "        text-align: right;\n",
       "    }\n",
       "</style>\n",
       "<table border=\"1\" class=\"dataframe\">\n",
       "  <thead>\n",
       "    <tr style=\"text-align: right;\">\n",
       "      <th></th>\n",
       "      <th>ID</th>\n",
       "      <th>Sex</th>\n",
       "      <th>Team</th>\n",
       "      <th>Age</th>\n",
       "      <th>Height</th>\n",
       "      <th>Weight</th>\n",
       "      <th>BMI</th>\n",
       "      <th>Year</th>\n",
       "      <th>Sport</th>\n",
       "      <th>Event</th>\n",
       "      <th>Medal_num</th>\n",
       "      <th>Medal_bool</th>\n",
       "    </tr>\n",
       "  </thead>\n",
       "  <tbody>\n",
       "    <tr>\n",
       "      <th>0</th>\n",
       "      <td>1</td>\n",
       "      <td>M</td>\n",
       "      <td>China</td>\n",
       "      <td>24.00</td>\n",
       "      <td>180.00</td>\n",
       "      <td>80.00</td>\n",
       "      <td>24.69</td>\n",
       "      <td>1992</td>\n",
       "      <td>Basketball</td>\n",
       "      <td>Basketball Men's Basketball</td>\n",
       "      <td>0</td>\n",
       "      <td>0</td>\n",
       "    </tr>\n",
       "    <tr>\n",
       "      <th>1</th>\n",
       "      <td>61</td>\n",
       "      <td>M</td>\n",
       "      <td>Bulgaria</td>\n",
       "      <td>26.00</td>\n",
       "      <td>175.00</td>\n",
       "      <td>72.00</td>\n",
       "      <td>23.51</td>\n",
       "      <td>1960</td>\n",
       "      <td>Football</td>\n",
       "      <td>Football Men's Football</td>\n",
       "      <td>0</td>\n",
       "      <td>0</td>\n",
       "    </tr>\n",
       "    <tr>\n",
       "      <th>2</th>\n",
       "      <td>73</td>\n",
       "      <td>M</td>\n",
       "      <td>France</td>\n",
       "      <td>23.00</td>\n",
       "      <td>182.00</td>\n",
       "      <td>86.00</td>\n",
       "      <td>25.96</td>\n",
       "      <td>2008</td>\n",
       "      <td>Handball</td>\n",
       "      <td>Handball Men's Handball</td>\n",
       "      <td>3</td>\n",
       "      <td>1</td>\n",
       "    </tr>\n",
       "    <tr>\n",
       "      <th>3</th>\n",
       "      <td>73</td>\n",
       "      <td>M</td>\n",
       "      <td>France</td>\n",
       "      <td>27.00</td>\n",
       "      <td>182.00</td>\n",
       "      <td>86.00</td>\n",
       "      <td>25.96</td>\n",
       "      <td>2012</td>\n",
       "      <td>Handball</td>\n",
       "      <td>Handball Men's Handball</td>\n",
       "      <td>3</td>\n",
       "      <td>1</td>\n",
       "    </tr>\n",
       "    <tr>\n",
       "      <th>4</th>\n",
       "      <td>73</td>\n",
       "      <td>M</td>\n",
       "      <td>France</td>\n",
       "      <td>31.00</td>\n",
       "      <td>182.00</td>\n",
       "      <td>86.00</td>\n",
       "      <td>25.96</td>\n",
       "      <td>2016</td>\n",
       "      <td>Handball</td>\n",
       "      <td>Handball Men's Handball</td>\n",
       "      <td>2</td>\n",
       "      <td>1</td>\n",
       "    </tr>\n",
       "  </tbody>\n",
       "</table>\n",
       "</div>"
      ],
      "text/plain": [
       "   ID Sex      Team   Age  Height  Weight   BMI  Year       Sport  \\\n",
       "0   1   M     China 24.00  180.00   80.00 24.69  1992  Basketball   \n",
       "1  61   M  Bulgaria 26.00  175.00   72.00 23.51  1960    Football   \n",
       "2  73   M    France 23.00  182.00   86.00 25.96  2008    Handball   \n",
       "3  73   M    France 27.00  182.00   86.00 25.96  2012    Handball   \n",
       "4  73   M    France 31.00  182.00   86.00 25.96  2016    Handball   \n",
       "\n",
       "                         Event  Medal_num  Medal_bool  \n",
       "0  Basketball Men's Basketball          0           0  \n",
       "1      Football Men's Football          0           0  \n",
       "2      Handball Men's Handball          3           1  \n",
       "3      Handball Men's Handball          3           1  \n",
       "4      Handball Men's Handball          2           1  "
      ]
     },
     "execution_count": 174,
     "metadata": {},
     "output_type": "execute_result"
    }
   ],
   "source": [
    "team_table_M = pysqldf('''\n",
    "SELECT \n",
    "    Id,\n",
    "    Sex,\n",
    "    Team,\n",
    "    Age,\n",
    "    Height,\n",
    "    Weight,\n",
    "    (weight / ((height/100)*(height/100))) AS BMI,\n",
    "    Year,\n",
    "    Sport,\n",
    "    Event,\n",
    "    CASE \n",
    "        WHEN Medal = 'Bronze' THEN 1\n",
    "        WHEN Medal = 'Silver' THEN 2\n",
    "        WHEN Medal = 'Gold' THEN 3\n",
    "        ELSE 0\n",
    "        END AS Medal_num,\n",
    "    CASE \n",
    "        WHEN Medal = 'Bronze' THEN 1\n",
    "        WHEN Medal = 'Silver' THEN 1\n",
    "        WHEN Medal = 'Gold' THEN 1\n",
    "        ELSE 0\n",
    "        END AS Medal_bool\n",
    "        \n",
    "FROM olympics \n",
    "WHERE \n",
    "    Sport IN ('Football', 'Hockey', 'Basketball', 'Handball', 'Volleyball', 'Water Polo',\n",
    "               'Synchronized Swimming', 'Baseball')\n",
    "    AND\n",
    "    Height IS NOT NULL\n",
    "    AND\n",
    "    Weight IS NOT NULL\n",
    "    AND \n",
    "    Age IS NOT NULL\n",
    "    AND \n",
    "    Year IS NOT NULL\n",
    "    AND \n",
    "    Year >= 1960\n",
    "    AND \n",
    "    Sex = 'M'\n",
    ";\n",
    "''')\n",
    "\n",
    "team_table_M.head()"
   ]
  },
  {
   "cell_type": "code",
   "execution_count": 175,
   "metadata": {},
   "outputs": [
    {
     "data": {
      "text/html": [
       "<div>\n",
       "<style scoped>\n",
       "    .dataframe tbody tr th:only-of-type {\n",
       "        vertical-align: middle;\n",
       "    }\n",
       "\n",
       "    .dataframe tbody tr th {\n",
       "        vertical-align: top;\n",
       "    }\n",
       "\n",
       "    .dataframe thead th {\n",
       "        text-align: right;\n",
       "    }\n",
       "</style>\n",
       "<table border=\"1\" class=\"dataframe\">\n",
       "  <thead>\n",
       "    <tr style=\"text-align: right;\">\n",
       "      <th></th>\n",
       "      <th>ID</th>\n",
       "      <th>Sex</th>\n",
       "      <th>Team</th>\n",
       "      <th>Age</th>\n",
       "      <th>Height</th>\n",
       "      <th>Weight</th>\n",
       "      <th>BMI</th>\n",
       "      <th>Year</th>\n",
       "      <th>Sport</th>\n",
       "      <th>Event</th>\n",
       "      <th>Medal_num</th>\n",
       "      <th>Medal_bool</th>\n",
       "    </tr>\n",
       "  </thead>\n",
       "  <tbody>\n",
       "    <tr>\n",
       "      <th>0</th>\n",
       "      <td>37</td>\n",
       "      <td>F</td>\n",
       "      <td>Norway</td>\n",
       "      <td>23.00</td>\n",
       "      <td>182.00</td>\n",
       "      <td>64.00</td>\n",
       "      <td>19.32</td>\n",
       "      <td>1996</td>\n",
       "      <td>Football</td>\n",
       "      <td>Football Women's Football</td>\n",
       "      <td>1</td>\n",
       "      <td>1</td>\n",
       "    </tr>\n",
       "    <tr>\n",
       "      <th>1</th>\n",
       "      <td>69</td>\n",
       "      <td>F</td>\n",
       "      <td>Spain</td>\n",
       "      <td>19.00</td>\n",
       "      <td>185.00</td>\n",
       "      <td>72.00</td>\n",
       "      <td>21.04</td>\n",
       "      <td>2008</td>\n",
       "      <td>Basketball</td>\n",
       "      <td>Basketball Women's Basketball</td>\n",
       "      <td>0</td>\n",
       "      <td>0</td>\n",
       "    </tr>\n",
       "    <tr>\n",
       "      <th>2</th>\n",
       "      <td>132</td>\n",
       "      <td>F</td>\n",
       "      <td>Italy</td>\n",
       "      <td>28.00</td>\n",
       "      <td>171.00</td>\n",
       "      <td>64.00</td>\n",
       "      <td>21.89</td>\n",
       "      <td>2012</td>\n",
       "      <td>Water Polo</td>\n",
       "      <td>Water Polo Women's Water Polo</td>\n",
       "      <td>0</td>\n",
       "      <td>0</td>\n",
       "    </tr>\n",
       "    <tr>\n",
       "      <th>3</th>\n",
       "      <td>135</td>\n",
       "      <td>F</td>\n",
       "      <td>Netherlands</td>\n",
       "      <td>23.00</td>\n",
       "      <td>178.00</td>\n",
       "      <td>72.00</td>\n",
       "      <td>22.72</td>\n",
       "      <td>2016</td>\n",
       "      <td>Handball</td>\n",
       "      <td>Handball Women's Handball</td>\n",
       "      <td>0</td>\n",
       "      <td>0</td>\n",
       "    </tr>\n",
       "    <tr>\n",
       "      <th>4</th>\n",
       "      <td>159</td>\n",
       "      <td>F</td>\n",
       "      <td>Egypt</td>\n",
       "      <td>15.00</td>\n",
       "      <td>167.00</td>\n",
       "      <td>60.00</td>\n",
       "      <td>21.51</td>\n",
       "      <td>2008</td>\n",
       "      <td>Synchronized Swimming</td>\n",
       "      <td>Synchronized Swimming Women's Duet</td>\n",
       "      <td>0</td>\n",
       "      <td>0</td>\n",
       "    </tr>\n",
       "  </tbody>\n",
       "</table>\n",
       "</div>"
      ],
      "text/plain": [
       "    ID Sex         Team   Age  Height  Weight   BMI  Year  \\\n",
       "0   37   F       Norway 23.00  182.00   64.00 19.32  1996   \n",
       "1   69   F        Spain 19.00  185.00   72.00 21.04  2008   \n",
       "2  132   F        Italy 28.00  171.00   64.00 21.89  2012   \n",
       "3  135   F  Netherlands 23.00  178.00   72.00 22.72  2016   \n",
       "4  159   F        Egypt 15.00  167.00   60.00 21.51  2008   \n",
       "\n",
       "                   Sport                               Event  Medal_num  \\\n",
       "0               Football           Football Women's Football          1   \n",
       "1             Basketball       Basketball Women's Basketball          0   \n",
       "2             Water Polo       Water Polo Women's Water Polo          0   \n",
       "3               Handball           Handball Women's Handball          0   \n",
       "4  Synchronized Swimming  Synchronized Swimming Women's Duet          0   \n",
       "\n",
       "   Medal_bool  \n",
       "0           1  \n",
       "1           0  \n",
       "2           0  \n",
       "3           0  \n",
       "4           0  "
      ]
     },
     "execution_count": 175,
     "metadata": {},
     "output_type": "execute_result"
    }
   ],
   "source": [
    "team_table_F = pysqldf('''\n",
    "SELECT \n",
    "    Id,\n",
    "    Sex,\n",
    "    Team,\n",
    "    Age,\n",
    "    Height,\n",
    "    Weight,\n",
    "    (weight / ((height/100)*(height/100))) AS BMI,\n",
    "    Year,\n",
    "    Sport,\n",
    "    Event,\n",
    "    CASE \n",
    "        WHEN Medal = 'Bronze' THEN 1\n",
    "        WHEN Medal = 'Silver' THEN 2\n",
    "        WHEN Medal = 'Gold' THEN 3\n",
    "        ELSE 0\n",
    "        END AS Medal_num,\n",
    "    CASE \n",
    "        WHEN Medal = 'Bronze' THEN 1\n",
    "        WHEN Medal = 'Silver' THEN 1\n",
    "        WHEN Medal = 'Gold' THEN 1\n",
    "        ELSE 0\n",
    "        END AS Medal_bool\n",
    "        \n",
    "FROM olympics \n",
    "WHERE \n",
    "    Sport IN ('Football', 'Hockey', 'Basketball', 'Handball', 'Volleyball', 'Water Polo',\n",
    "               'Synchronized Swimming', 'Baseball')\n",
    "    AND\n",
    "    Height IS NOT NULL\n",
    "    AND\n",
    "    Weight IS NOT NULL\n",
    "    AND \n",
    "    Age IS NOT NULL\n",
    "    AND \n",
    "    Year IS NOT NULL\n",
    "    AND \n",
    "    Year >= 1960\n",
    "    AND \n",
    "    Sex = 'F'\n",
    ";\n",
    "''')\n",
    "\n",
    "team_table_F.head()"
   ]
  },
  {
   "cell_type": "code",
   "execution_count": 176,
   "metadata": {
    "scrolled": true
   },
   "outputs": [
    {
     "data": {
      "text/html": [
       "<div>\n",
       "<style scoped>\n",
       "    .dataframe tbody tr th:only-of-type {\n",
       "        vertical-align: middle;\n",
       "    }\n",
       "\n",
       "    .dataframe tbody tr th {\n",
       "        vertical-align: top;\n",
       "    }\n",
       "\n",
       "    .dataframe thead th {\n",
       "        text-align: right;\n",
       "    }\n",
       "</style>\n",
       "<table border=\"1\" class=\"dataframe\">\n",
       "  <thead>\n",
       "    <tr style=\"text-align: right;\">\n",
       "      <th></th>\n",
       "      <th>ID</th>\n",
       "      <th>Sex</th>\n",
       "      <th>Team</th>\n",
       "      <th>Age</th>\n",
       "      <th>Height</th>\n",
       "      <th>Weight</th>\n",
       "      <th>BMI</th>\n",
       "      <th>Year</th>\n",
       "      <th>Sport</th>\n",
       "      <th>Event</th>\n",
       "      <th>Medal_num</th>\n",
       "      <th>Medal_bool</th>\n",
       "    </tr>\n",
       "  </thead>\n",
       "  <tbody>\n",
       "    <tr>\n",
       "      <th>0</th>\n",
       "      <td>2</td>\n",
       "      <td>M</td>\n",
       "      <td>China</td>\n",
       "      <td>23.00</td>\n",
       "      <td>170.00</td>\n",
       "      <td>60.00</td>\n",
       "      <td>20.76</td>\n",
       "      <td>2012</td>\n",
       "      <td>Judo</td>\n",
       "      <td>Judo Men's Extra-Lightweight</td>\n",
       "      <td>0</td>\n",
       "      <td>0</td>\n",
       "    </tr>\n",
       "    <tr>\n",
       "      <th>1</th>\n",
       "      <td>23</td>\n",
       "      <td>M</td>\n",
       "      <td>Norway</td>\n",
       "      <td>22.00</td>\n",
       "      <td>187.00</td>\n",
       "      <td>89.00</td>\n",
       "      <td>25.45</td>\n",
       "      <td>2000</td>\n",
       "      <td>Wrestling</td>\n",
       "      <td>Wrestling Men's Light-Heavyweight, Greco-Roman</td>\n",
       "      <td>0</td>\n",
       "      <td>0</td>\n",
       "    </tr>\n",
       "    <tr>\n",
       "      <th>2</th>\n",
       "      <td>23</td>\n",
       "      <td>M</td>\n",
       "      <td>Norway</td>\n",
       "      <td>26.00</td>\n",
       "      <td>187.00</td>\n",
       "      <td>89.00</td>\n",
       "      <td>25.45</td>\n",
       "      <td>2004</td>\n",
       "      <td>Wrestling</td>\n",
       "      <td>Wrestling Men's Light-Heavyweight, Greco-Roman</td>\n",
       "      <td>0</td>\n",
       "      <td>0</td>\n",
       "    </tr>\n",
       "    <tr>\n",
       "      <th>3</th>\n",
       "      <td>50</td>\n",
       "      <td>M</td>\n",
       "      <td>Estonia</td>\n",
       "      <td>22.00</td>\n",
       "      <td>185.00</td>\n",
       "      <td>106.00</td>\n",
       "      <td>30.97</td>\n",
       "      <td>1992</td>\n",
       "      <td>Wrestling</td>\n",
       "      <td>Wrestling Men's Heavyweight, Freestyle</td>\n",
       "      <td>0</td>\n",
       "      <td>0</td>\n",
       "    </tr>\n",
       "    <tr>\n",
       "      <th>4</th>\n",
       "      <td>50</td>\n",
       "      <td>M</td>\n",
       "      <td>Estonia</td>\n",
       "      <td>26.00</td>\n",
       "      <td>185.00</td>\n",
       "      <td>106.00</td>\n",
       "      <td>30.97</td>\n",
       "      <td>1996</td>\n",
       "      <td>Wrestling</td>\n",
       "      <td>Wrestling Men's Heavyweight, Freestyle</td>\n",
       "      <td>0</td>\n",
       "      <td>0</td>\n",
       "    </tr>\n",
       "  </tbody>\n",
       "</table>\n",
       "</div>"
      ],
      "text/plain": [
       "   ID Sex     Team   Age  Height  Weight   BMI  Year      Sport  \\\n",
       "0   2   M    China 23.00  170.00   60.00 20.76  2012       Judo   \n",
       "1  23   M   Norway 22.00  187.00   89.00 25.45  2000  Wrestling   \n",
       "2  23   M   Norway 26.00  187.00   89.00 25.45  2004  Wrestling   \n",
       "3  50   M  Estonia 22.00  185.00  106.00 30.97  1992  Wrestling   \n",
       "4  50   M  Estonia 26.00  185.00  106.00 30.97  1996  Wrestling   \n",
       "\n",
       "                                            Event  Medal_num  Medal_bool  \n",
       "0                    Judo Men's Extra-Lightweight          0           0  \n",
       "1  Wrestling Men's Light-Heavyweight, Greco-Roman          0           0  \n",
       "2  Wrestling Men's Light-Heavyweight, Greco-Roman          0           0  \n",
       "3          Wrestling Men's Heavyweight, Freestyle          0           0  \n",
       "4          Wrestling Men's Heavyweight, Freestyle          0           0  "
      ]
     },
     "execution_count": 176,
     "metadata": {},
     "output_type": "execute_result"
    }
   ],
   "source": [
    "weight_division_table_M = pysqldf('''\n",
    "SELECT \n",
    "    Id,\n",
    "    Sex,\n",
    "    Team,\n",
    "    Age,\n",
    "    Height,\n",
    "    Weight,\n",
    "    (weight / ((height/100)*(height/100))) AS BMI,\n",
    "    Year,\n",
    "    Sport,\n",
    "    Event,\n",
    "    CASE \n",
    "        WHEN Medal = 'Bronze' THEN 1\n",
    "        WHEN Medal = 'Silver' THEN 2\n",
    "        WHEN Medal = 'Gold' THEN 3\n",
    "        ELSE 0\n",
    "        END AS Medal_num,\n",
    "    CASE \n",
    "        WHEN Medal = 'Bronze' THEN 1\n",
    "        WHEN Medal = 'Silver' THEN 1\n",
    "        WHEN Medal = 'Gold' THEN 1\n",
    "        ELSE 0\n",
    "        END AS Medal_bool\n",
    "        \n",
    "FROM olympics \n",
    "WHERE \n",
    "    Sport IN ('Wrestling', 'Boxing', 'Judo', 'Taekwondo', 'Weightlifting')\n",
    "    AND\n",
    "    Height IS NOT NULL\n",
    "    AND\n",
    "    Weight IS NOT NULL\n",
    "    AND \n",
    "    Age IS NOT NULL\n",
    "    AND \n",
    "    Year IS NOT NULL\n",
    "    AND \n",
    "    Year >= 1960\n",
    "    AND \n",
    "    Sex = 'M'\n",
    ";\n",
    "''')\n",
    "\n",
    "weight_division_table_M.head()"
   ]
  },
  {
   "cell_type": "code",
   "execution_count": 177,
   "metadata": {},
   "outputs": [
    {
     "data": {
      "text/html": [
       "<div>\n",
       "<style scoped>\n",
       "    .dataframe tbody tr th:only-of-type {\n",
       "        vertical-align: middle;\n",
       "    }\n",
       "\n",
       "    .dataframe tbody tr th {\n",
       "        vertical-align: top;\n",
       "    }\n",
       "\n",
       "    .dataframe thead th {\n",
       "        text-align: right;\n",
       "    }\n",
       "</style>\n",
       "<table border=\"1\" class=\"dataframe\">\n",
       "  <thead>\n",
       "    <tr style=\"text-align: right;\">\n",
       "      <th></th>\n",
       "      <th>ID</th>\n",
       "      <th>Sex</th>\n",
       "      <th>Team</th>\n",
       "      <th>Age</th>\n",
       "      <th>Height</th>\n",
       "      <th>Weight</th>\n",
       "      <th>BMI</th>\n",
       "      <th>Year</th>\n",
       "      <th>Sport</th>\n",
       "      <th>Event</th>\n",
       "      <th>Medal_num</th>\n",
       "      <th>Medal_bool</th>\n",
       "    </tr>\n",
       "  </thead>\n",
       "  <tbody>\n",
       "    <tr>\n",
       "      <th>0</th>\n",
       "      <td>22</td>\n",
       "      <td>F</td>\n",
       "      <td>Romania</td>\n",
       "      <td>22.00</td>\n",
       "      <td>170.00</td>\n",
       "      <td>125.00</td>\n",
       "      <td>43.25</td>\n",
       "      <td>2016</td>\n",
       "      <td>Weightlifting</td>\n",
       "      <td>Weightlifting Women's Super-Heavyweight</td>\n",
       "      <td>0</td>\n",
       "      <td>0</td>\n",
       "    </tr>\n",
       "    <tr>\n",
       "      <th>1</th>\n",
       "      <td>65</td>\n",
       "      <td>F</td>\n",
       "      <td>Azerbaijan</td>\n",
       "      <td>21.00</td>\n",
       "      <td>165.00</td>\n",
       "      <td>49.00</td>\n",
       "      <td>18.00</td>\n",
       "      <td>2016</td>\n",
       "      <td>Taekwondo</td>\n",
       "      <td>Taekwondo Women's Flyweight</td>\n",
       "      <td>1</td>\n",
       "      <td>1</td>\n",
       "    </tr>\n",
       "    <tr>\n",
       "      <th>2</th>\n",
       "      <td>131</td>\n",
       "      <td>F</td>\n",
       "      <td>Azerbaijan</td>\n",
       "      <td>33.00</td>\n",
       "      <td>159.00</td>\n",
       "      <td>53.00</td>\n",
       "      <td>20.96</td>\n",
       "      <td>2000</td>\n",
       "      <td>Weightlifting</td>\n",
       "      <td>Weightlifting Women's Featherweight</td>\n",
       "      <td>0</td>\n",
       "      <td>0</td>\n",
       "    </tr>\n",
       "    <tr>\n",
       "      <th>3</th>\n",
       "      <td>165</td>\n",
       "      <td>F</td>\n",
       "      <td>United States</td>\n",
       "      <td>20.00</td>\n",
       "      <td>175.00</td>\n",
       "      <td>56.00</td>\n",
       "      <td>18.29</td>\n",
       "      <td>2004</td>\n",
       "      <td>Taekwondo</td>\n",
       "      <td>Taekwondo Women's Featherweight</td>\n",
       "      <td>2</td>\n",
       "      <td>1</td>\n",
       "    </tr>\n",
       "    <tr>\n",
       "      <th>4</th>\n",
       "      <td>310</td>\n",
       "      <td>F</td>\n",
       "      <td>Indonesia</td>\n",
       "      <td>32.00</td>\n",
       "      <td>158.00</td>\n",
       "      <td>58.00</td>\n",
       "      <td>23.23</td>\n",
       "      <td>2004</td>\n",
       "      <td>Weightlifting</td>\n",
       "      <td>Weightlifting Women's Lightweight</td>\n",
       "      <td>0</td>\n",
       "      <td>0</td>\n",
       "    </tr>\n",
       "  </tbody>\n",
       "</table>\n",
       "</div>"
      ],
      "text/plain": [
       "    ID Sex           Team   Age  Height  Weight   BMI  Year          Sport  \\\n",
       "0   22   F        Romania 22.00  170.00  125.00 43.25  2016  Weightlifting   \n",
       "1   65   F     Azerbaijan 21.00  165.00   49.00 18.00  2016      Taekwondo   \n",
       "2  131   F     Azerbaijan 33.00  159.00   53.00 20.96  2000  Weightlifting   \n",
       "3  165   F  United States 20.00  175.00   56.00 18.29  2004      Taekwondo   \n",
       "4  310   F      Indonesia 32.00  158.00   58.00 23.23  2004  Weightlifting   \n",
       "\n",
       "                                     Event  Medal_num  Medal_bool  \n",
       "0  Weightlifting Women's Super-Heavyweight          0           0  \n",
       "1              Taekwondo Women's Flyweight          1           1  \n",
       "2      Weightlifting Women's Featherweight          0           0  \n",
       "3          Taekwondo Women's Featherweight          2           1  \n",
       "4        Weightlifting Women's Lightweight          0           0  "
      ]
     },
     "execution_count": 177,
     "metadata": {},
     "output_type": "execute_result"
    }
   ],
   "source": [
    "weight_division_table_F = pysqldf('''\n",
    "SELECT \n",
    "    Id,\n",
    "    Sex,\n",
    "    Team,\n",
    "    Age,\n",
    "    Height,\n",
    "    Weight,\n",
    "    (weight / ((height/100)*(height/100))) AS BMI,\n",
    "    Year,\n",
    "    Sport,\n",
    "    Event,\n",
    "    CASE \n",
    "        WHEN Medal = 'Bronze' THEN 1\n",
    "        WHEN Medal = 'Silver' THEN 2\n",
    "        WHEN Medal = 'Gold' THEN 3\n",
    "        ELSE 0\n",
    "        END AS Medal_num,\n",
    "    CASE \n",
    "        WHEN Medal = 'Bronze' THEN 1\n",
    "        WHEN Medal = 'Silver' THEN 1\n",
    "        WHEN Medal = 'Gold' THEN 1\n",
    "        ELSE 0\n",
    "        END AS Medal_bool\n",
    "        \n",
    "FROM olympics \n",
    "WHERE \n",
    "    Sport IN ('Wrestling', 'Boxing', 'Judo', 'Taekwondo', 'Weightlifting')\n",
    "    AND\n",
    "    Height IS NOT NULL\n",
    "    AND\n",
    "    Weight IS NOT NULL\n",
    "    AND \n",
    "    Age IS NOT NULL\n",
    "    AND \n",
    "    Year IS NOT NULL\n",
    "    AND \n",
    "    Year >= 1960\n",
    "    AND \n",
    "    Sex = 'F'\n",
    ";\n",
    "''')\n",
    "\n",
    "weight_division_table_F.head()"
   ]
  },
  {
   "cell_type": "code",
   "execution_count": 178,
   "metadata": {
    "scrolled": true
   },
   "outputs": [
    {
     "data": {
      "text/html": [
       "<div>\n",
       "<style scoped>\n",
       "    .dataframe tbody tr th:only-of-type {\n",
       "        vertical-align: middle;\n",
       "    }\n",
       "\n",
       "    .dataframe tbody tr th {\n",
       "        vertical-align: top;\n",
       "    }\n",
       "\n",
       "    .dataframe thead th {\n",
       "        text-align: right;\n",
       "    }\n",
       "</style>\n",
       "<table border=\"1\" class=\"dataframe\">\n",
       "  <thead>\n",
       "    <tr style=\"text-align: right;\">\n",
       "      <th></th>\n",
       "      <th>ID</th>\n",
       "      <th>Sex</th>\n",
       "      <th>Team</th>\n",
       "      <th>Age</th>\n",
       "      <th>Height</th>\n",
       "      <th>Weight</th>\n",
       "      <th>BMI</th>\n",
       "      <th>Year</th>\n",
       "      <th>Sport</th>\n",
       "      <th>Event</th>\n",
       "      <th>Medal_num</th>\n",
       "      <th>Medal_bool</th>\n",
       "    </tr>\n",
       "  </thead>\n",
       "  <tbody>\n",
       "    <tr>\n",
       "      <th>0</th>\n",
       "      <td>18</td>\n",
       "      <td>M</td>\n",
       "      <td>Finland</td>\n",
       "      <td>31.00</td>\n",
       "      <td>189.00</td>\n",
       "      <td>130.00</td>\n",
       "      <td>36.39</td>\n",
       "      <td>2000</td>\n",
       "      <td>Athletics</td>\n",
       "      <td>Athletics Men's Shot Put</td>\n",
       "      <td>0</td>\n",
       "      <td>0</td>\n",
       "    </tr>\n",
       "    <tr>\n",
       "      <th>1</th>\n",
       "      <td>28</td>\n",
       "      <td>M</td>\n",
       "      <td>Norway</td>\n",
       "      <td>43.00</td>\n",
       "      <td>170.00</td>\n",
       "      <td>77.00</td>\n",
       "      <td>26.64</td>\n",
       "      <td>1968</td>\n",
       "      <td>Sailing</td>\n",
       "      <td>Sailing Mixed Three Person Keelboat</td>\n",
       "      <td>0</td>\n",
       "      <td>0</td>\n",
       "    </tr>\n",
       "    <tr>\n",
       "      <th>2</th>\n",
       "      <td>28</td>\n",
       "      <td>M</td>\n",
       "      <td>Norway</td>\n",
       "      <td>47.00</td>\n",
       "      <td>170.00</td>\n",
       "      <td>77.00</td>\n",
       "      <td>26.64</td>\n",
       "      <td>1972</td>\n",
       "      <td>Sailing</td>\n",
       "      <td>Sailing Mixed Three Person Keelboat</td>\n",
       "      <td>0</td>\n",
       "      <td>0</td>\n",
       "    </tr>\n",
       "    <tr>\n",
       "      <th>3</th>\n",
       "      <td>30</td>\n",
       "      <td>M</td>\n",
       "      <td>Netherlands</td>\n",
       "      <td>26.00</td>\n",
       "      <td>189.00</td>\n",
       "      <td>72.00</td>\n",
       "      <td>20.16</td>\n",
       "      <td>1996</td>\n",
       "      <td>Rowing</td>\n",
       "      <td>Rowing Men's Lightweight Double Sculls</td>\n",
       "      <td>2</td>\n",
       "      <td>1</td>\n",
       "    </tr>\n",
       "    <tr>\n",
       "      <th>4</th>\n",
       "      <td>30</td>\n",
       "      <td>M</td>\n",
       "      <td>Netherlands</td>\n",
       "      <td>30.00</td>\n",
       "      <td>189.00</td>\n",
       "      <td>72.00</td>\n",
       "      <td>20.16</td>\n",
       "      <td>2000</td>\n",
       "      <td>Rowing</td>\n",
       "      <td>Rowing Men's Lightweight Double Sculls</td>\n",
       "      <td>0</td>\n",
       "      <td>0</td>\n",
       "    </tr>\n",
       "  </tbody>\n",
       "</table>\n",
       "</div>"
      ],
      "text/plain": [
       "   ID Sex         Team   Age  Height  Weight   BMI  Year      Sport  \\\n",
       "0  18   M      Finland 31.00  189.00  130.00 36.39  2000  Athletics   \n",
       "1  28   M       Norway 43.00  170.00   77.00 26.64  1968    Sailing   \n",
       "2  28   M       Norway 47.00  170.00   77.00 26.64  1972    Sailing   \n",
       "3  30   M  Netherlands 26.00  189.00   72.00 20.16  1996     Rowing   \n",
       "4  30   M  Netherlands 30.00  189.00   72.00 20.16  2000     Rowing   \n",
       "\n",
       "                                    Event  Medal_num  Medal_bool  \n",
       "0                Athletics Men's Shot Put          0           0  \n",
       "1     Sailing Mixed Three Person Keelboat          0           0  \n",
       "2     Sailing Mixed Three Person Keelboat          0           0  \n",
       "3  Rowing Men's Lightweight Double Sculls          2           1  \n",
       "4  Rowing Men's Lightweight Double Sculls          0           0  "
      ]
     },
     "execution_count": 178,
     "metadata": {},
     "output_type": "execute_result"
    }
   ],
   "source": [
    "individual_table_M = pysqldf('''\n",
    "SELECT \n",
    "    Id,\n",
    "    Sex,\n",
    "    Team,\n",
    "    Age,\n",
    "    Height,\n",
    "    Weight,\n",
    "    (weight / ((height/100)*(height/100))) AS BMI,\n",
    "    Year,\n",
    "    Sport,\n",
    "    Event,\n",
    "    CASE \n",
    "        WHEN Medal = 'Bronze' THEN 1\n",
    "        WHEN Medal = 'Silver' THEN 2\n",
    "        WHEN Medal = 'Gold' THEN 3\n",
    "        ELSE 0\n",
    "        END AS Medal_num,\n",
    "    CASE \n",
    "        WHEN Medal = 'Bronze' THEN 1\n",
    "        WHEN Medal = 'Silver' THEN 1\n",
    "        WHEN Medal = 'Gold' THEN 1\n",
    "        ELSE 0\n",
    "        END AS Medal_bool\n",
    "        \n",
    "FROM olympics \n",
    "WHERE \n",
    "    Sport IN ('Athletics', 'Swimming', 'Gymnastics', 'Rowing', 'Cycling', 'Shooting', 'Fencing', \n",
    "                     'Canoeing', 'Sailing', 'Equestrianism', 'Diving', 'Archery', 'Tennis', 'Triathlon')\n",
    "    AND\n",
    "    Height IS NOT NULL\n",
    "    AND\n",
    "    Weight IS NOT NULL\n",
    "    AND \n",
    "    Age IS NOT NULL\n",
    "    AND \n",
    "    Year IS NOT NULL\n",
    "    AND \n",
    "    Year >= 1960\n",
    "    AND \n",
    "    Sex = 'M'\n",
    ";\n",
    "''')\n",
    "\n",
    "individual_table_M.head()"
   ]
  },
  {
   "cell_type": "code",
   "execution_count": 179,
   "metadata": {},
   "outputs": [
    {
     "data": {
      "text/html": [
       "<div>\n",
       "<style scoped>\n",
       "    .dataframe tbody tr th:only-of-type {\n",
       "        vertical-align: middle;\n",
       "    }\n",
       "\n",
       "    .dataframe tbody tr th {\n",
       "        vertical-align: top;\n",
       "    }\n",
       "\n",
       "    .dataframe thead th {\n",
       "        text-align: right;\n",
       "    }\n",
       "</style>\n",
       "<table border=\"1\" class=\"dataframe\">\n",
       "  <thead>\n",
       "    <tr style=\"text-align: right;\">\n",
       "      <th></th>\n",
       "      <th>ID</th>\n",
       "      <th>Sex</th>\n",
       "      <th>Team</th>\n",
       "      <th>Age</th>\n",
       "      <th>Height</th>\n",
       "      <th>Weight</th>\n",
       "      <th>BMI</th>\n",
       "      <th>Year</th>\n",
       "      <th>Sport</th>\n",
       "      <th>Event</th>\n",
       "      <th>Medal_num</th>\n",
       "      <th>Medal_bool</th>\n",
       "    </tr>\n",
       "  </thead>\n",
       "  <tbody>\n",
       "    <tr>\n",
       "      <th>0</th>\n",
       "      <td>13</td>\n",
       "      <td>F</td>\n",
       "      <td>Finland</td>\n",
       "      <td>30.00</td>\n",
       "      <td>159.00</td>\n",
       "      <td>55.50</td>\n",
       "      <td>21.95</td>\n",
       "      <td>1996</td>\n",
       "      <td>Sailing</td>\n",
       "      <td>Sailing Women's Windsurfer</td>\n",
       "      <td>0</td>\n",
       "      <td>0</td>\n",
       "    </tr>\n",
       "    <tr>\n",
       "      <th>1</th>\n",
       "      <td>13</td>\n",
       "      <td>F</td>\n",
       "      <td>Finland</td>\n",
       "      <td>34.00</td>\n",
       "      <td>159.00</td>\n",
       "      <td>55.50</td>\n",
       "      <td>21.95</td>\n",
       "      <td>2000</td>\n",
       "      <td>Sailing</td>\n",
       "      <td>Sailing Women's Windsurfer</td>\n",
       "      <td>0</td>\n",
       "      <td>0</td>\n",
       "    </tr>\n",
       "    <tr>\n",
       "      <th>2</th>\n",
       "      <td>49</td>\n",
       "      <td>F</td>\n",
       "      <td>Estonia</td>\n",
       "      <td>24.00</td>\n",
       "      <td>168.00</td>\n",
       "      <td>65.00</td>\n",
       "      <td>23.03</td>\n",
       "      <td>2004</td>\n",
       "      <td>Athletics</td>\n",
       "      <td>Athletics Women's Javelin Throw</td>\n",
       "      <td>0</td>\n",
       "      <td>0</td>\n",
       "    </tr>\n",
       "    <tr>\n",
       "      <th>3</th>\n",
       "      <td>49</td>\n",
       "      <td>F</td>\n",
       "      <td>Estonia</td>\n",
       "      <td>28.00</td>\n",
       "      <td>168.00</td>\n",
       "      <td>65.00</td>\n",
       "      <td>23.03</td>\n",
       "      <td>2008</td>\n",
       "      <td>Athletics</td>\n",
       "      <td>Athletics Women's Javelin Throw</td>\n",
       "      <td>0</td>\n",
       "      <td>0</td>\n",
       "    </tr>\n",
       "    <tr>\n",
       "      <th>4</th>\n",
       "      <td>67</td>\n",
       "      <td>F</td>\n",
       "      <td>Russia</td>\n",
       "      <td>22.00</td>\n",
       "      <td>179.00</td>\n",
       "      <td>80.00</td>\n",
       "      <td>24.97</td>\n",
       "      <td>2008</td>\n",
       "      <td>Athletics</td>\n",
       "      <td>Athletics Women's Javelin Throw</td>\n",
       "      <td>2</td>\n",
       "      <td>1</td>\n",
       "    </tr>\n",
       "  </tbody>\n",
       "</table>\n",
       "</div>"
      ],
      "text/plain": [
       "   ID Sex     Team   Age  Height  Weight   BMI  Year      Sport  \\\n",
       "0  13   F  Finland 30.00  159.00   55.50 21.95  1996    Sailing   \n",
       "1  13   F  Finland 34.00  159.00   55.50 21.95  2000    Sailing   \n",
       "2  49   F  Estonia 24.00  168.00   65.00 23.03  2004  Athletics   \n",
       "3  49   F  Estonia 28.00  168.00   65.00 23.03  2008  Athletics   \n",
       "4  67   F   Russia 22.00  179.00   80.00 24.97  2008  Athletics   \n",
       "\n",
       "                             Event  Medal_num  Medal_bool  \n",
       "0       Sailing Women's Windsurfer          0           0  \n",
       "1       Sailing Women's Windsurfer          0           0  \n",
       "2  Athletics Women's Javelin Throw          0           0  \n",
       "3  Athletics Women's Javelin Throw          0           0  \n",
       "4  Athletics Women's Javelin Throw          2           1  "
      ]
     },
     "execution_count": 179,
     "metadata": {},
     "output_type": "execute_result"
    }
   ],
   "source": [
    "individual_table_F = pysqldf('''\n",
    "SELECT \n",
    "    Id,\n",
    "    Sex,\n",
    "    Team,\n",
    "    Age,\n",
    "    Height,\n",
    "    Weight,\n",
    "    (weight / ((height/100)*(height/100))) AS BMI,\n",
    "    Year,\n",
    "    Sport,\n",
    "    Event,\n",
    "    CASE \n",
    "        WHEN Medal = 'Bronze' THEN 1\n",
    "        WHEN Medal = 'Silver' THEN 2\n",
    "        WHEN Medal = 'Gold' THEN 3\n",
    "        ELSE 0\n",
    "        END AS Medal_num,\n",
    "    CASE \n",
    "        WHEN Medal = 'Bronze' THEN 1\n",
    "        WHEN Medal = 'Silver' THEN 1\n",
    "        WHEN Medal = 'Gold' THEN 1\n",
    "        ELSE 0\n",
    "        END AS Medal_bool\n",
    "        \n",
    "FROM olympics \n",
    "WHERE \n",
    "    Sport IN ('Athletics', 'Swimming', 'Gymnastics', 'Rowing', 'Cycling', 'Shooting', 'Fencing', \n",
    "                     'Canoeing', 'Sailing', 'Equestrianism', 'Diving', 'Archery', 'Tennis', 'Triathlon')\n",
    "    AND\n",
    "    Height IS NOT NULL\n",
    "    AND\n",
    "    Weight IS NOT NULL\n",
    "    AND \n",
    "    Age IS NOT NULL\n",
    "    AND \n",
    "    Year IS NOT NULL\n",
    "    AND \n",
    "    Year >= 1960\n",
    "    AND \n",
    "    Sex = 'F'\n",
    ";\n",
    "''')\n",
    "\n",
    "individual_table_F.head()"
   ]
  },
  {
   "cell_type": "code",
   "execution_count": 100,
   "metadata": {},
   "outputs": [
    {
     "name": "stdout",
     "output_type": "stream",
     "text": [
      "team_table shape = (15090, 12)\n",
      "team_table shape = (7696, 12)\n",
      "weight_division_table shape = (13908, 12)\n",
      "weight_division_table shape = (2109, 12)\n",
      "individual_table shape = (72982, 12)\n",
      "individual_table shape = (39109, 12)\n"
     ]
    }
   ],
   "source": [
    "print(f'team_table shape = {team_table_M.shape}')\n",
    "print(f'team_table shape = {team_table_F.shape}')\n",
    "\n",
    "print(f'weight_division_table shape = {weight_division_table_M.shape}')\n",
    "print(f'weight_division_table shape = {weight_division_table_F.shape}')\n",
    "\n",
    "print(f'individual_table shape = {individual_table_M.shape}')\n",
    "print(f'individual_table shape = {individual_table_F.shape}')"
   ]
  },
  {
   "cell_type": "markdown",
   "metadata": {},
   "source": [
    "## Histograms"
   ]
  },
  {
   "cell_type": "code",
   "execution_count": 101,
   "metadata": {},
   "outputs": [
    {
     "data": {
      "text/plain": [
       "<matplotlib.axes._subplots.AxesSubplot at 0x7fb1135a5b20>"
      ]
     },
     "execution_count": 101,
     "metadata": {},
     "output_type": "execute_result"
    },
    {
     "data": {
      "image/png": "[encoded data removed]",
      "text/plain": [
       "<Figure size 1440x720 with 1 Axes>"
      ]
     },
     "metadata": {},
     "output_type": "display_data"
    }
   ],
   "source": [
    "plt.figure(figsize=(20, 10))\n",
    "weight_division_table_F.BMI.hist()"
   ]
  },
  {
   "cell_type": "markdown",
   "metadata": {},
   "source": [
    "## Correlations"
   ]
  },
  {
   "cell_type": "code",
   "execution_count": 102,
   "metadata": {},
   "outputs": [
    {
     "data": {
      "text/plain": [
       "Text(0, 0.5, 'Height (cm)')"
      ]
     },
     "execution_count": 102,
     "metadata": {},
     "output_type": "execute_result"
    },
    {
     "data": {
      "image/png": "[encoded data removed]",
      "text/plain": [
       "<Figure size 1440x720 with 1 Axes>"
      ]
     },
     "metadata": {},
     "output_type": "display_data"
    }
   ],
   "source": [
    "x_height = weight_division_table_F['Height']\n",
    "y_weight = weight_division_table_F['Weight']\n",
    "plt.figure(figsize=(20,10))\n",
    "plt.scatter(x_height, y_weight)\n",
    "plt.title('Correlation between Height and Weight')\n",
    "plt.xlabel('Weight (kg)')\n",
    "plt.ylabel('Height (cm)')"
   ]
  },
  {
   "cell_type": "code",
   "execution_count": 103,
   "metadata": {},
   "outputs": [
    {
     "data": {
      "text/plain": [
       "<matplotlib.axes._subplots.AxesSubplot at 0x7fb117211c70>"
      ]
     },
     "execution_count": 103,
     "metadata": {},
     "output_type": "execute_result"
    },
    {
     "data": {
      "image/png": "[encoded data removed]",
      "text/plain": [
       "<Figure size 1440x720 with 1 Axes>"
      ]
     },
     "metadata": {},
     "output_type": "display_data"
    }
   ],
   "source": [
    "plt.figure(figsize=(20,10))\n",
    "sns.regplot(x = 'Height', y = 'Weight', data = weight_division_table_F)"
   ]
  },
  {
   "cell_type": "markdown",
   "metadata": {},
   "source": [
    "## Pearson"
   ]
  },
  {
   "cell_type": "code",
   "execution_count": 104,
   "metadata": {},
   "outputs": [
    {
     "name": "stdout",
     "output_type": "stream",
     "text": [
      "pearson = 0.6079840875769498\n",
      "p_value = 2.0848625294104456e-213\n"
     ]
    }
   ],
   "source": [
    "from scipy import stats\n",
    "pearson, p_value = stats.pearsonr(weight_division_table_F['Height'], weight_division_table_F['Weight'])\n",
    "print(f'pearson = {pearson}')\n",
    "print(f'p_value = {p_value}')"
   ]
  },
  {
   "cell_type": "markdown",
   "metadata": {},
   "source": [
    "## ANOVA"
   ]
  },
  {
   "cell_type": "markdown",
   "metadata": {},
   "source": [
    "#### weight_division_table FEMALE"
   ]
  },
  {
   "cell_type": "code",
   "execution_count": 127,
   "metadata": {},
   "outputs": [],
   "source": [
    "weight_division_table_ANO = weight_division_table_F[['BMI', 'Medal_bool']]\n",
    "weight_division_grouped = weight_division_table_ANO.groupby(['Medal_bool'])\n",
    "\n",
    "weight_division_medal = weight_division_grouped.get_group('True')['BMI']\n",
    "weight_division_NO_medal = weight_division_grouped.get_group('False')['BMI']"
   ]
  },
  {
   "cell_type": "code",
   "execution_count": 128,
   "metadata": {},
   "outputs": [
    {
     "data": {
      "text/plain": [
       "(ShapiroResult(statistic=0.7806748747825623, pvalue=2.8292127573278398e-24),\n",
       " ShapiroResult(statistic=0.7946470975875854, pvalue=1.716590618797901e-41))"
      ]
     },
     "execution_count": 128,
     "metadata": {},
     "output_type": "execute_result"
    }
   ],
   "source": [
    "# Shapiro-Wilk normality test \n",
    "stats.shapiro(weight_division_medal), stats.shapiro(weight_division_NO_medal)"
   ]
  },
  {
   "cell_type": "code",
   "execution_count": 129,
   "metadata": {},
   "outputs": [],
   "source": [
    "plt.style.use('fivethirtyeight')"
   ]
  },
  {
   "cell_type": "code",
   "execution_count": 130,
   "metadata": {},
   "outputs": [
    {
     "data": {
      "text/plain": [
       "<matplotlib.axes._subplots.AxesSubplot at 0x7fb11717bdf0>"
      ]
     },
     "execution_count": 130,
     "metadata": {},
     "output_type": "execute_result"
    },
    {
     "data": {
      "image/png": "[encoded data removed]",
      "text/plain": [
       "<Figure size 1440x720 with 1 Axes>"
      ]
     },
     "metadata": {},
     "output_type": "display_data"
    }
   ],
   "source": [
    "plt.figure(figsize=(20,10))\n",
    "sns.boxplot(x = 'Medal_bool', y = 'BMI', data = weight_division_table)"
   ]
  },
  {
   "cell_type": "code",
   "execution_count": 131,
   "metadata": {},
   "outputs": [
    {
     "data": {
      "text/plain": [
       "LeveneResult(statistic=0.044711885681548574, pvalue=0.8325551490609926)"
      ]
     },
     "execution_count": 131,
     "metadata": {},
     "output_type": "execute_result"
    }
   ],
   "source": [
    "# Levene variance test  \n",
    "stats.levene(weight_division_medal, weight_division_NO_medal)"
   ]
  },
  {
   "cell_type": "code",
   "execution_count": 132,
   "metadata": {},
   "outputs": [
    {
     "name": "stdout",
     "output_type": "stream",
     "text": [
      "F statistic = 0.6662\n",
      "p value = 0.4145\n"
     ]
    }
   ],
   "source": [
    "F, p = stats.f_oneway(weight_division_medal, weight_division_NO_medal)\n",
    "print('F statistic = {:.4f}'.format(F))\n",
    "print('p value = {:.4f}'.format(p))"
   ]
  },
  {
   "cell_type": "code",
   "execution_count": 133,
   "metadata": {},
   "outputs": [],
   "source": [
    "weight_division_medal_label = pd.DataFrame(weight_division_medal.copy())\n",
    "weight_division_medal_label['label'] = 'Medal'\n",
    "weight_division_NO_medal_label = pd.DataFrame(weight_division_NO_medal.copy())\n",
    "weight_division_NO_medal_label['label'] = 'No'\n",
    "\n",
    "weight_division_ALL_label = pd.concat([weight_division_medal_label, weight_division_NO_medal_label])\n"
   ]
  },
  {
   "cell_type": "code",
   "execution_count": 134,
   "metadata": {
    "scrolled": true
   },
   "outputs": [
    {
     "name": "stdout",
     "output_type": "stream",
     "text": [
      "Multiple Comparison of Means - Tukey HSD, FWER=0.05\n",
      "==================================================\n",
      "group1 group2 meandiff p-adj   lower  upper reject\n",
      "--------------------------------------------------\n",
      " Medal     No  -0.2088 0.4145 -0.7106 0.293  False\n",
      "--------------------------------------------------\n"
     ]
    }
   ],
   "source": [
    "import statsmodels.stats.multicomp as ml\n",
    "\n",
    "mcobj = ml.MultiComparison(weight_division_ALL_label.BMI, weight_division_ALL_label.label)\n",
    "out = mcobj.tukeyhsd(0.05) \n",
    "\n",
    "print(out)"
   ]
  },
  {
   "cell_type": "markdown",
   "metadata": {},
   "source": [
    "#### weight_division_table MALE"
   ]
  },
  {
   "cell_type": "code",
   "execution_count": 135,
   "metadata": {},
   "outputs": [],
   "source": [
    "weight_division_table_ANO = weight_division_table_M[['BMI', 'Medal_bool']]\n",
    "weight_division_grouped = weight_division_table_ANO.groupby(['Medal_bool'])\n",
    "\n",
    "weight_division_medal = weight_division_grouped.get_group('True')['BMI']\n",
    "weight_division_NO_medal = weight_division_grouped.get_group('False')['BMI']"
   ]
  },
  {
   "cell_type": "code",
   "execution_count": 136,
   "metadata": {},
   "outputs": [
    {
     "name": "stderr",
     "output_type": "stream",
     "text": [
      "/Users/luciomuramatsu/anaconda3/lib/python3.8/site-packages/scipy/stats/morestats.py:1681: UserWarning: p-value may not be accurate for N > 5000.\n",
      "  warnings.warn(\"p-value may not be accurate for N > 5000.\")\n"
     ]
    },
    {
     "data": {
      "text/plain": [
       "(ShapiroResult(statistic=0.9053884744644165, pvalue=4.1172900718156203e-35),\n",
       " ShapiroResult(statistic=0.9127197265625, pvalue=0.0))"
      ]
     },
     "execution_count": 136,
     "metadata": {},
     "output_type": "execute_result"
    }
   ],
   "source": [
    "# Shapiro-Wilk normality test \n",
    "stats.shapiro(weight_division_medal), stats.shapiro(weight_division_NO_medal)"
   ]
  },
  {
   "cell_type": "code",
   "execution_count": 137,
   "metadata": {},
   "outputs": [
    {
     "data": {
      "text/plain": [
       "<matplotlib.axes._subplots.AxesSubplot at 0x7fb0fdf66760>"
      ]
     },
     "execution_count": 137,
     "metadata": {},
     "output_type": "execute_result"
    },
    {
     "data": {
      "image/png": "[encoded data removed]",
      "text/plain": [
       "<Figure size 1440x720 with 1 Axes>"
      ]
     },
     "metadata": {},
     "output_type": "display_data"
    }
   ],
   "source": [
    "plt.figure(figsize=(20,10))\n",
    "sns.boxplot(x = 'Medal_bool', y = 'BMI', data = weight_division_table)"
   ]
  },
  {
   "cell_type": "code",
   "execution_count": 138,
   "metadata": {},
   "outputs": [
    {
     "data": {
      "text/plain": [
       "LeveneResult(statistic=1.4231316230436646, pvalue=0.23290899382850405)"
      ]
     },
     "execution_count": 138,
     "metadata": {},
     "output_type": "execute_result"
    }
   ],
   "source": [
    "# Levene variance test  \n",
    "stats.levene(weight_division_medal, weight_division_NO_medal)"
   ]
  },
  {
   "cell_type": "code",
   "execution_count": 139,
   "metadata": {},
   "outputs": [
    {
     "name": "stdout",
     "output_type": "stream",
     "text": [
      "F statistic = 15.0959\n",
      "p value = 0.0001\n"
     ]
    }
   ],
   "source": [
    "F, p = stats.f_oneway(weight_division_medal, weight_division_NO_medal)\n",
    "print('F statistic = {:.4f}'.format(F))\n",
    "print('p value = {:.4f}'.format(p))"
   ]
  },
  {
   "cell_type": "code",
   "execution_count": 140,
   "metadata": {},
   "outputs": [],
   "source": [
    "weight_division_medal_label = pd.DataFrame(weight_division_medal.copy())\n",
    "weight_division_medal_label['label'] = 'Medal'\n",
    "weight_division_NO_medal_label = pd.DataFrame(weight_division_NO_medal.copy())\n",
    "weight_division_NO_medal_label['label'] = 'No'\n",
    "\n",
    "weight_division_ALL_label = pd.concat([weight_division_medal_label, weight_division_NO_medal_label])\n"
   ]
  },
  {
   "cell_type": "code",
   "execution_count": 141,
   "metadata": {},
   "outputs": [
    {
     "name": "stdout",
     "output_type": "stream",
     "text": [
      "Multiple Comparison of Means - Tukey HSD, FWER=0.05\n",
      "===================================================\n",
      "group1 group2 meandiff p-adj  lower   upper  reject\n",
      "---------------------------------------------------\n",
      " Medal     No  -0.4245 0.001 -0.6386 -0.2103   True\n",
      "---------------------------------------------------\n"
     ]
    }
   ],
   "source": [
    "import statsmodels.stats.multicomp as ml\n",
    "\n",
    "mcobj = ml.MultiComparison(weight_division_ALL_label.BMI, weight_division_ALL_label.label)\n",
    "out = mcobj.tukeyhsd(0.05) \n",
    "\n",
    "print(out)"
   ]
  },
  {
   "cell_type": "markdown",
   "metadata": {},
   "source": [
    "#### team_table FEMALE"
   ]
  },
  {
   "cell_type": "code",
   "execution_count": 142,
   "metadata": {},
   "outputs": [],
   "source": [
    "team_table_ANO = team_table_F[['BMI', 'Medal_bool']]\n",
    "team_table_grouped = team_table_ANO.groupby(['Medal_bool'])\n",
    "\n",
    "team_table_medal = team_table_grouped.get_group('True')['BMI']\n",
    "team_table_NO_medal = team_table_grouped.get_group('False')['BMI']"
   ]
  },
  {
   "cell_type": "code",
   "execution_count": 143,
   "metadata": {},
   "outputs": [
    {
     "name": "stderr",
     "output_type": "stream",
     "text": [
      "/Users/luciomuramatsu/anaconda3/lib/python3.8/site-packages/scipy/stats/morestats.py:1681: UserWarning: p-value may not be accurate for N > 5000.\n",
      "  warnings.warn(\"p-value may not be accurate for N > 5000.\")\n"
     ]
    },
    {
     "data": {
      "text/plain": [
       "(ShapiroResult(statistic=0.9633694291114807, pvalue=2.1301530165440197e-24),\n",
       " ShapiroResult(statistic=0.9849855303764343, pvalue=3.2522548399833044e-23))"
      ]
     },
     "execution_count": 143,
     "metadata": {},
     "output_type": "execute_result"
    }
   ],
   "source": [
    "# Shapiro-Wilk normality test \n",
    "stats.shapiro(team_table_medal), stats.shapiro(team_table_NO_medal)"
   ]
  },
  {
   "cell_type": "code",
   "execution_count": 144,
   "metadata": {},
   "outputs": [
    {
     "data": {
      "text/plain": [
       "<matplotlib.axes._subplots.AxesSubplot at 0x7fb10a5d1190>"
      ]
     },
     "execution_count": 144,
     "metadata": {},
     "output_type": "execute_result"
    },
    {
     "data": {
      "image/png": "[encoded data removed]",
      "text/plain": [
       "<Figure size 1440x720 with 1 Axes>"
      ]
     },
     "metadata": {},
     "output_type": "display_data"
    }
   ],
   "source": [
    "plt.figure(figsize=(20,10))\n",
    "sns.boxplot(x = 'Medal_bool', y = 'BMI', data = team_table)"
   ]
  },
  {
   "cell_type": "code",
   "execution_count": 145,
   "metadata": {},
   "outputs": [
    {
     "data": {
      "text/plain": [
       "LeveneResult(statistic=0.09857578615463668, pvalue=0.7535539987675242)"
      ]
     },
     "execution_count": 145,
     "metadata": {},
     "output_type": "execute_result"
    }
   ],
   "source": [
    "# Levene variance test  \n",
    "stats.levene(team_table_medal, team_table_NO_medal)"
   ]
  },
  {
   "cell_type": "code",
   "execution_count": 146,
   "metadata": {},
   "outputs": [
    {
     "name": "stdout",
     "output_type": "stream",
     "text": [
      "F statistic = 20.5362\n",
      "p value = 0.0000\n"
     ]
    }
   ],
   "source": [
    "F, p = stats.f_oneway(team_table_medal, team_table_NO_medal)\n",
    "print('F statistic = {:.4f}'.format(F))\n",
    "print('p value = {:.4f}'.format(p))"
   ]
  },
  {
   "cell_type": "code",
   "execution_count": 147,
   "metadata": {},
   "outputs": [],
   "source": [
    "team_table_medal_label = pd.DataFrame(team_table_medal.copy())\n",
    "team_table_medal_label['label'] = 'Medal'\n",
    "team_table_NO_medal_label = pd.DataFrame(team_table_NO_medal.copy())\n",
    "team_table_NO_medal_label['label'] = 'No'\n",
    "\n",
    "team_table_ALL_label = pd.concat([team_table_medal_label, team_table_NO_medal_label])\n"
   ]
  },
  {
   "cell_type": "code",
   "execution_count": 148,
   "metadata": {
    "scrolled": false
   },
   "outputs": [
    {
     "name": "stdout",
     "output_type": "stream",
     "text": [
      "Multiple Comparison of Means - Tukey HSD, FWER=0.05\n",
      "===================================================\n",
      "group1 group2 meandiff p-adj  lower   upper  reject\n",
      "---------------------------------------------------\n",
      " Medal     No   -0.205 0.001 -0.2937 -0.1163   True\n",
      "---------------------------------------------------\n"
     ]
    }
   ],
   "source": [
    "mcobj = ml.MultiComparison(team_table_ALL_label.BMI, team_table_ALL_label.label)\n",
    "out = mcobj.tukeyhsd(0.05) \n",
    "\n",
    "print(out)"
   ]
  },
  {
   "cell_type": "markdown",
   "metadata": {},
   "source": [
    "#### team_table MALE"
   ]
  },
  {
   "cell_type": "code",
   "execution_count": 149,
   "metadata": {},
   "outputs": [],
   "source": [
    "team_table_ANO = team_table_M[['BMI', 'Medal_bool']]\n",
    "team_table_grouped = team_table_ANO.groupby(['Medal_bool'])\n",
    "\n",
    "team_table_medal = team_table_grouped.get_group('True')['BMI']\n",
    "team_table_NO_medal = team_table_grouped.get_group('False')['BMI']"
   ]
  },
  {
   "cell_type": "code",
   "execution_count": 150,
   "metadata": {},
   "outputs": [
    {
     "name": "stderr",
     "output_type": "stream",
     "text": [
      "/Users/luciomuramatsu/anaconda3/lib/python3.8/site-packages/scipy/stats/morestats.py:1681: UserWarning: p-value may not be accurate for N > 5000.\n",
      "  warnings.warn(\"p-value may not be accurate for N > 5000.\")\n"
     ]
    },
    {
     "data": {
      "text/plain": [
       "(ShapiroResult(statistic=0.9780291318893433, pvalue=7.288964323715418e-24),\n",
       " ShapiroResult(statistic=0.9821889996528625, pvalue=3.4864444980575313e-35))"
      ]
     },
     "execution_count": 150,
     "metadata": {},
     "output_type": "execute_result"
    }
   ],
   "source": [
    "# Shapiro-Wilk normality test \n",
    "stats.shapiro(team_table_medal), stats.shapiro(team_table_NO_medal)"
   ]
  },
  {
   "cell_type": "code",
   "execution_count": 151,
   "metadata": {},
   "outputs": [
    {
     "data": {
      "text/plain": [
       "<matplotlib.axes._subplots.AxesSubplot at 0x7fb0fdf66190>"
      ]
     },
     "execution_count": 151,
     "metadata": {},
     "output_type": "execute_result"
    },
    {
     "data": {
      "image/png": "[encoded data removed]",
      "text/plain": [
       "<Figure size 1440x720 with 1 Axes>"
      ]
     },
     "metadata": {},
     "output_type": "display_data"
    }
   ],
   "source": [
    "plt.figure(figsize=(20,10))\n",
    "sns.boxplot(x = 'Medal_bool', y = 'BMI', data = team_table)"
   ]
  },
  {
   "cell_type": "code",
   "execution_count": 152,
   "metadata": {},
   "outputs": [
    {
     "data": {
      "text/plain": [
       "LeveneResult(statistic=0.7760727411887391, pvalue=0.37835896509625044)"
      ]
     },
     "execution_count": 152,
     "metadata": {},
     "output_type": "execute_result"
    }
   ],
   "source": [
    "# Levene variance test  \n",
    "stats.levene(team_table_medal, team_table_NO_medal)"
   ]
  },
  {
   "cell_type": "code",
   "execution_count": 153,
   "metadata": {},
   "outputs": [
    {
     "name": "stdout",
     "output_type": "stream",
     "text": [
      "F statistic = 92.8439\n",
      "p value = 0.0000\n"
     ]
    }
   ],
   "source": [
    "F, p = stats.f_oneway(team_table_medal, team_table_NO_medal)\n",
    "print('F statistic = {:.4f}'.format(F))\n",
    "print('p value = {:.4f}'.format(p))"
   ]
  },
  {
   "cell_type": "code",
   "execution_count": 154,
   "metadata": {},
   "outputs": [],
   "source": [
    "team_table_medal_label = pd.DataFrame(team_table_medal.copy())\n",
    "team_table_medal_label['label'] = 'Medal'\n",
    "team_table_NO_medal_label = pd.DataFrame(team_table_NO_medal.copy())\n",
    "team_table_NO_medal_label['label'] = 'No'\n",
    "\n",
    "team_table_ALL_label = pd.concat([team_table_medal_label, team_table_NO_medal_label])\n"
   ]
  },
  {
   "cell_type": "code",
   "execution_count": 155,
   "metadata": {
    "scrolled": true
   },
   "outputs": [
    {
     "name": "stdout",
     "output_type": "stream",
     "text": [
      "Multiple Comparison of Means - Tukey HSD, FWER=0.05\n",
      "==================================================\n",
      "group1 group2 meandiff p-adj lower   upper  reject\n",
      "--------------------------------------------------\n",
      " Medal     No  -0.3474 0.001 -0.418 -0.2767   True\n",
      "--------------------------------------------------\n"
     ]
    }
   ],
   "source": [
    "mcobj = ml.MultiComparison(team_table_ALL_label.BMI, team_table_ALL_label.label)\n",
    "out = mcobj.tukeyhsd(0.05) \n",
    "\n",
    "print(out)"
   ]
  },
  {
   "cell_type": "markdown",
   "metadata": {},
   "source": [
    "#### individual_table FEMALE"
   ]
  },
  {
   "cell_type": "code",
   "execution_count": 156,
   "metadata": {},
   "outputs": [],
   "source": [
    "individual_table_ANO = individual_table_F[['BMI', 'Medal_bool']]\n",
    "individual_table_grouped = individual_table_ANO.groupby(['Medal_bool'])\n",
    "\n",
    "individual_table_medal = individual_table_grouped.get_group('True')['BMI']\n",
    "individual_table_NO_medal = individual_table_grouped.get_group('False')['BMI']"
   ]
  },
  {
   "cell_type": "code",
   "execution_count": 157,
   "metadata": {},
   "outputs": [
    {
     "name": "stderr",
     "output_type": "stream",
     "text": [
      "/Users/luciomuramatsu/anaconda3/lib/python3.8/site-packages/scipy/stats/morestats.py:1681: UserWarning: p-value may not be accurate for N > 5000.\n",
      "  warnings.warn(\"p-value may not be accurate for N > 5000.\")\n"
     ]
    },
    {
     "data": {
      "text/plain": [
       "(ShapiroResult(statistic=0.9478874206542969, pvalue=7.791929919967396e-39),\n",
       " ShapiroResult(statistic=0.9231413006782532, pvalue=0.0))"
      ]
     },
     "execution_count": 157,
     "metadata": {},
     "output_type": "execute_result"
    }
   ],
   "source": [
    "# Shapiro-Wilk normality test \n",
    "stats.shapiro(individual_table_medal), stats.shapiro(individual_table_NO_medal)"
   ]
  },
  {
   "cell_type": "code",
   "execution_count": 158,
   "metadata": {},
   "outputs": [
    {
     "data": {
      "text/plain": [
       "<matplotlib.axes._subplots.AxesSubplot at 0x7fb10e581c10>"
      ]
     },
     "execution_count": 158,
     "metadata": {},
     "output_type": "execute_result"
    },
    {
     "data": {
      "image/png": "[encoded data removed]",
      "text/plain": [
       "<Figure size 1440x720 with 1 Axes>"
      ]
     },
     "metadata": {},
     "output_type": "display_data"
    }
   ],
   "source": [
    "plt.figure(figsize=(20,10))\n",
    "sns.boxplot(x = 'Medal_bool', y = 'BMI', data = individual_table)"
   ]
  },
  {
   "cell_type": "code",
   "execution_count": 159,
   "metadata": {},
   "outputs": [
    {
     "data": {
      "text/plain": [
       "LeveneResult(statistic=1.4614915001863331, pvalue=0.22670026555136782)"
      ]
     },
     "execution_count": 159,
     "metadata": {},
     "output_type": "execute_result"
    }
   ],
   "source": [
    "# Levene variance test  \n",
    "stats.levene(individual_table_medal, individual_table_NO_medal)"
   ]
  },
  {
   "cell_type": "code",
   "execution_count": 160,
   "metadata": {},
   "outputs": [
    {
     "name": "stdout",
     "output_type": "stream",
     "text": [
      "F statistic = 182.6636\n",
      "p value = 0.0000\n"
     ]
    }
   ],
   "source": [
    "F, p = stats.f_oneway(individual_table_medal, individual_table_NO_medal)\n",
    "print('F statistic = {:.4f}'.format(F))\n",
    "print('p value = {:.4f}'.format(p))"
   ]
  },
  {
   "cell_type": "code",
   "execution_count": 161,
   "metadata": {},
   "outputs": [],
   "source": [
    "individual_table_medal_label = pd.DataFrame(individual_table_medal.copy())\n",
    "individual_table_medal_label['label'] = 'Medal'\n",
    "individual_table_NO_medal_label = pd.DataFrame(individual_table_NO_medal.copy())\n",
    "individual_table_NO_medal_label['label'] = 'No'\n",
    "\n",
    "individual_table_ALL_label = pd.concat([individual_table_medal_label, individual_table_NO_medal_label])\n"
   ]
  },
  {
   "cell_type": "code",
   "execution_count": 162,
   "metadata": {},
   "outputs": [
    {
     "name": "stdout",
     "output_type": "stream",
     "text": [
      "Multiple Comparison of Means - Tukey HSD, FWER=0.05\n",
      "===================================================\n",
      "group1 group2 meandiff p-adj  lower   upper  reject\n",
      "---------------------------------------------------\n",
      " Medal     No   -0.492 0.001 -0.5633 -0.4206   True\n",
      "---------------------------------------------------\n"
     ]
    }
   ],
   "source": [
    "mcobj = ml.MultiComparison(individual_table_ALL_label.BMI, individual_table_ALL_label.label)\n",
    "out = mcobj.tukeyhsd(0.05) \n",
    "\n",
    "print(out)"
   ]
  },
  {
   "cell_type": "markdown",
   "metadata": {},
   "source": [
    "#### individual_table MALE"
   ]
  },
  {
   "cell_type": "code",
   "execution_count": 163,
   "metadata": {},
   "outputs": [],
   "source": [
    "individual_table_ANO = individual_table_M[['BMI', 'Medal_bool']]\n",
    "individual_table_grouped = individual_table_ANO.groupby(['Medal_bool'])\n",
    "\n",
    "individual_table_medal = individual_table_grouped.get_group('True')['BMI']\n",
    "individual_table_NO_medal = individual_table_grouped.get_group('False')['BMI']"
   ]
  },
  {
   "cell_type": "code",
   "execution_count": 164,
   "metadata": {},
   "outputs": [
    {
     "name": "stderr",
     "output_type": "stream",
     "text": [
      "/Users/luciomuramatsu/anaconda3/lib/python3.8/site-packages/scipy/stats/morestats.py:1681: UserWarning: p-value may not be accurate for N > 5000.\n",
      "  warnings.warn(\"p-value may not be accurate for N > 5000.\")\n"
     ]
    },
    {
     "data": {
      "text/plain": [
       "(ShapiroResult(statistic=0.9357399344444275, pvalue=0.0),\n",
       " ShapiroResult(statistic=0.915174126625061, pvalue=0.0))"
      ]
     },
     "execution_count": 164,
     "metadata": {},
     "output_type": "execute_result"
    }
   ],
   "source": [
    "# Shapiro-Wilk normality test \n",
    "stats.shapiro(individual_table_medal), stats.shapiro(individual_table_NO_medal)"
   ]
  },
  {
   "cell_type": "code",
   "execution_count": 165,
   "metadata": {},
   "outputs": [
    {
     "data": {
      "text/plain": [
       "<matplotlib.axes._subplots.AxesSubplot at 0x7fb10f52e3d0>"
      ]
     },
     "execution_count": 165,
     "metadata": {},
     "output_type": "execute_result"
    },
    {
     "data": {
      "image/png": "[encoded data removed]",
      "text/plain": [
       "<Figure size 1440x720 with 1 Axes>"
      ]
     },
     "metadata": {},
     "output_type": "display_data"
    }
   ],
   "source": [
    "plt.figure(figsize=(20,10))\n",
    "sns.boxplot(x = 'Medal_bool', y = 'BMI', data = individual_table)"
   ]
  },
  {
   "cell_type": "code",
   "execution_count": 166,
   "metadata": {},
   "outputs": [
    {
     "data": {
      "text/plain": [
       "LeveneResult(statistic=3.1361135244102902, pvalue=0.07658025105433368)"
      ]
     },
     "execution_count": 166,
     "metadata": {},
     "output_type": "execute_result"
    }
   ],
   "source": [
    "# Levene variance test  \n",
    "stats.levene(individual_table_medal, individual_table_NO_medal)"
   ]
  },
  {
   "cell_type": "code",
   "execution_count": 167,
   "metadata": {},
   "outputs": [
    {
     "name": "stdout",
     "output_type": "stream",
     "text": [
      "F statistic = 215.5374\n",
      "p value = 0.0000\n"
     ]
    }
   ],
   "source": [
    "F, p = stats.f_oneway(individual_table_medal, individual_table_NO_medal)\n",
    "print('F statistic = {:.4f}'.format(F))\n",
    "print('p value = {:.4f}'.format(p))"
   ]
  },
  {
   "cell_type": "code",
   "execution_count": 168,
   "metadata": {},
   "outputs": [],
   "source": [
    "individual_table_medal_label = pd.DataFrame(individual_table_medal.copy())\n",
    "individual_table_medal_label['label'] = 'Medal'\n",
    "individual_table_NO_medal_label = pd.DataFrame(individual_table_NO_medal.copy())\n",
    "individual_table_NO_medal_label['label'] = 'No'\n",
    "\n",
    "individual_table_ALL_label = pd.concat([individual_table_medal_label, individual_table_NO_medal_label])\n"
   ]
  },
  {
   "cell_type": "code",
   "execution_count": 169,
   "metadata": {},
   "outputs": [
    {
     "name": "stdout",
     "output_type": "stream",
     "text": [
      "Multiple Comparison of Means - Tukey HSD, FWER=0.05\n",
      "==================================================\n",
      "group1 group2 meandiff p-adj lower   upper  reject\n",
      "--------------------------------------------------\n",
      " Medal     No  -0.4376 0.001 -0.496 -0.3792   True\n",
      "--------------------------------------------------\n"
     ]
    }
   ],
   "source": [
    "mcobj = ml.MultiComparison(individual_table_ALL_label.BMI, individual_table_ALL_label.label)\n",
    "out = mcobj.tukeyhsd(0.05) \n",
    "\n",
    "print(out)"
   ]
  },
  {
   "cell_type": "markdown",
   "metadata": {},
   "source": [
    "## Linear Regression"
   ]
  },
  {
   "cell_type": "code",
   "execution_count": 191,
   "metadata": {},
   "outputs": [
    {
     "data": {
      "text/plain": [
       "0.001769108885129489"
      ]
     },
     "execution_count": 191,
     "metadata": {},
     "output_type": "execute_result"
    }
   ],
   "source": [
    "from sklearn.linear_model import LinearRegression\n",
    "lm = LinearRegression()\n",
    "\n",
    "x_lm = individual_table[['BMI', 'Age']]\n",
    "y_lm = individual_table['Medal_num']\n",
    "lm.fit(x_lm, y_lm)\n",
    "lm.score(x_lm, y_lm)"
   ]
  },
  {
   "cell_type": "code",
   "execution_count": 185,
   "metadata": {},
   "outputs": [
    {
     "data": {
      "text/plain": [
       "<matplotlib.axes._subplots.AxesSubplot at 0x7fb101495550>"
      ]
     },
     "execution_count": 185,
     "metadata": {},
     "output_type": "execute_result"
    },
    {
     "data": {
      "image/png": "[encoded data removed]",
      "text/plain": [
       "<Figure size 432x288 with 1 Axes>"
      ]
     },
     "metadata": {},
     "output_type": "display_data"
    }
   ],
   "source": [
    "sns.residplot( individual_table['BMI'],  individual_table['Medal_num'])"
   ]
  },
  {
   "cell_type": "code",
   "execution_count": 186,
   "metadata": {},
   "outputs": [
    {
     "data": {
      "text/plain": [
       "array([0.01073223])"
      ]
     },
     "execution_count": 186,
     "metadata": {},
     "output_type": "execute_result"
    }
   ],
   "source": [
    "Yhat = lm.predict(x_lm)\n",
    "Yhat\n",
    "\n",
    "lm.intercept_\n",
    "\n",
    "lm.coef_"
   ]
  },
  {
   "cell_type": "code",
   "execution_count": 190,
   "metadata": {},
   "outputs": [
    {
     "name": "stderr",
     "output_type": "stream",
     "text": [
      "/Users/luciomuramatsu/anaconda3/lib/python3.8/site-packages/seaborn/distributions.py:369: UserWarning: Default bandwidth for data is 0; skipping density estimation.\n",
      "  warnings.warn(msg, UserWarning)\n"
     ]
    },
    {
     "data": {
      "text/plain": [
       "<matplotlib.axes._subplots.AxesSubplot at 0x7fb0ee0f4b50>"
      ]
     },
     "execution_count": 190,
     "metadata": {},
     "output_type": "execute_result"
    },
    {
     "data": {
      "image/png": "[encoded data removed]",
      "text/plain": [
       "<Figure size 432x288 with 1 Axes>"
      ]
     },
     "metadata": {},
     "output_type": "display_data"
    }
   ],
   "source": [
    "ax1 = sns.distplot(individual_table['Medal_num'], hist = False, color = \"r\", label = \"Actual Medal\")\n",
    "sns.distplot(Yhat, hist = False, color = \"b\", label = \"Fitted Medal\", ax=ax1)"
   ]
  },
  {
   "cell_type": "code",
   "execution_count": null,
   "metadata": {},
   "outputs": [],
   "source": []
  }
 ],
 "metadata": {
  "kernelspec": {
   "display_name": "Python 3",
   "language": "python",
   "name": "python3"
  },
  "language_info": {
   "codemirror_mode": {
    "name": "ipython",
    "version": 3
   },
   "file_extension": ".py",
   "mimetype": "text/x-python",
   "name": "python",
   "nbconvert_exporter": "python",
   "pygments_lexer": "ipython3",
   "version": "3.8.3"
  }
 },
 "nbformat": 4,
 "nbformat_minor": 4
}
